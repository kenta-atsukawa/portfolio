{
 "cells": [
  {
   "cell_type": "code",
   "execution_count": 1,
   "id": "8c12b8cc",
   "metadata": {},
   "outputs": [],
   "source": [
    "import pandas as pd\n",
    "import numpy as np\n",
    "import re"
   ]
  },
  {
   "cell_type": "code",
   "execution_count": 2,
   "id": "38eebb22",
   "metadata": {},
   "outputs": [],
   "source": [
    "df = pd.read_csv(\"data/suumo.csv\")"
   ]
  },
  {
   "cell_type": "code",
   "execution_count": 3,
   "id": "132cf98a",
   "metadata": {},
   "outputs": [
    {
     "data": {
      "text/plain": [
       "name             3842\n",
       "station             0\n",
       "price            3842\n",
       "sikikinreikin    3842\n",
       "room             3842\n",
       "age              3842\n",
       "address          3842\n",
       "dtype: int64"
      ]
     },
     "execution_count": 3,
     "metadata": {},
     "output_type": "execute_result"
    }
   ],
   "source": [
    "df.isnull().sum()"
   ]
  },
  {
   "cell_type": "code",
   "execution_count": 4,
   "id": "64b74a3c",
   "metadata": {},
   "outputs": [],
   "source": [
    "df = df.dropna()"
   ]
  },
  {
   "cell_type": "code",
   "execution_count": 5,
   "id": "c2bd677e",
   "metadata": {},
   "outputs": [
    {
     "data": {
      "text/html": [
       "<div>\n",
       "<style scoped>\n",
       "    .dataframe tbody tr th:only-of-type {\n",
       "        vertical-align: middle;\n",
       "    }\n",
       "\n",
       "    .dataframe tbody tr th {\n",
       "        vertical-align: top;\n",
       "    }\n",
       "\n",
       "    .dataframe thead th {\n",
       "        text-align: right;\n",
       "    }\n",
       "</style>\n",
       "<table border=\"1\" class=\"dataframe\">\n",
       "  <thead>\n",
       "    <tr style=\"text-align: right;\">\n",
       "      <th></th>\n",
       "      <th>name</th>\n",
       "      <th>station</th>\n",
       "      <th>price</th>\n",
       "      <th>sikikinreikin</th>\n",
       "      <th>room</th>\n",
       "      <th>age</th>\n",
       "      <th>address</th>\n",
       "    </tr>\n",
       "  </thead>\n",
       "  <tbody>\n",
       "    <tr>\n",
       "      <th>0</th>\n",
       "      <td>アルテシモ　サリーレ</td>\n",
       "      <td>東武伊勢崎線/曳舟駅 歩6分</td>\n",
       "      <td>7.3万円  管理費 15000円</td>\n",
       "      <td>敷-  礼7.3万円  保証金 -  敷引・償却 -</td>\n",
       "      <td>1K  25.25m2  東</td>\n",
       "      <td>マンション  築6年</td>\n",
       "      <td>東京都墨田区京島１</td>\n",
       "    </tr>\n",
       "    <tr>\n",
       "      <th>1</th>\n",
       "      <td>Forbitezza</td>\n",
       "      <td>東京メトロ半蔵門線/押上駅 歩8分</td>\n",
       "      <td>7.4万円  管理費 4000円</td>\n",
       "      <td>敷-  礼-  保証金 -  敷引・償却 -</td>\n",
       "      <td>1K  15.24m2  -</td>\n",
       "      <td>アパート  築8年</td>\n",
       "      <td>東京都墨田区押上２</td>\n",
       "    </tr>\n",
       "    <tr>\n",
       "      <th>2</th>\n",
       "      <td>京成押上線 押上駅 3階建 築8年</td>\n",
       "      <td>京成押上線/押上駅 歩4分</td>\n",
       "      <td>7.4万円  管理費 4000円</td>\n",
       "      <td>敷-  礼-  保証金 -  敷引・償却 -</td>\n",
       "      <td>1K  15.24m2  -</td>\n",
       "      <td>アパート  築8年</td>\n",
       "      <td>東京都墨田区押上２</td>\n",
       "    </tr>\n",
       "    <tr>\n",
       "      <th>3</th>\n",
       "      <td>東武伊勢崎線 押上駅 2階建 築6年</td>\n",
       "      <td>東武伊勢崎線/曳舟駅 歩8分</td>\n",
       "      <td>5.65万円  管理費 3500円</td>\n",
       "      <td>敷-  礼5.65万円  保証金 -  敷引・償却 -</td>\n",
       "      <td>ワンルーム  10.5m2  南東</td>\n",
       "      <td>アパート  築6年</td>\n",
       "      <td>東京都墨田区文花１</td>\n",
       "    </tr>\n",
       "    <tr>\n",
       "      <th>4</th>\n",
       "      <td>京成押上線 京成曳舟駅 5階建 築5年</td>\n",
       "      <td>京成押上線/押上駅 歩4分</td>\n",
       "      <td>9.7万円  管理費 10000円</td>\n",
       "      <td>敷9.7万円  礼9.7万円  保証金 -  敷引・償却 -</td>\n",
       "      <td>1LDK  30.09m2  -</td>\n",
       "      <td>マンション  築5年</td>\n",
       "      <td>東京都墨田区八広１</td>\n",
       "    </tr>\n",
       "  </tbody>\n",
       "</table>\n",
       "</div>"
      ],
      "text/plain": [
       "                  name            station              price  \\\n",
       "0           アルテシモ　サリーレ     東武伊勢崎線/曳舟駅 歩6分  7.3万円  管理費 15000円   \n",
       "1           Forbitezza  東京メトロ半蔵門線/押上駅 歩8分   7.4万円  管理費 4000円   \n",
       "2    京成押上線 押上駅 3階建 築8年      京成押上線/押上駅 歩4分   7.4万円  管理費 4000円   \n",
       "3   東武伊勢崎線 押上駅 2階建 築6年     東武伊勢崎線/曳舟駅 歩8分  5.65万円  管理費 3500円   \n",
       "4  京成押上線 京成曳舟駅 5階建 築5年      京成押上線/押上駅 歩4分  9.7万円  管理費 10000円   \n",
       "\n",
       "                    sikikinreikin               room         age    address  \n",
       "0      敷-  礼7.3万円  保証金 -  敷引・償却 -     1K  25.25m2  東  マンション  築6年  東京都墨田区京島１  \n",
       "1          敷-  礼-  保証金 -  敷引・償却 -     1K  15.24m2  -   アパート  築8年  東京都墨田区押上２  \n",
       "2          敷-  礼-  保証金 -  敷引・償却 -     1K  15.24m2  -   アパート  築8年  東京都墨田区押上２  \n",
       "3     敷-  礼5.65万円  保証金 -  敷引・償却 -  ワンルーム  10.5m2  南東   アパート  築6年  東京都墨田区文花１  \n",
       "4  敷9.7万円  礼9.7万円  保証金 -  敷引・償却 -   1LDK  30.09m2  -  マンション  築5年  東京都墨田区八広１  "
      ]
     },
     "execution_count": 5,
     "metadata": {},
     "output_type": "execute_result"
    }
   ],
   "source": [
    "df.head()"
   ]
  },
  {
   "cell_type": "code",
   "execution_count": 6,
   "id": "92494055",
   "metadata": {},
   "outputs": [],
   "source": [
    "station_line_list = []\n",
    "time_move_list = []"
   ]
  },
  {
   "cell_type": "code",
   "execution_count": 7,
   "id": "52b8e8c3",
   "metadata": {},
   "outputs": [],
   "source": [
    "for i in df[\"station\"]:\n",
    "    station_line_list.append(i.split(\" \")[0])\n",
    "    time_move_list.append(i.split(\" \")[1])"
   ]
  },
  {
   "cell_type": "code",
   "execution_count": 8,
   "id": "f28daa72",
   "metadata": {},
   "outputs": [
    {
     "data": {
      "text/plain": [
       "{'京成押上線/押上駅',\n",
       " '東京メトロ半蔵門線/押上駅',\n",
       " '東武亀戸線/曳舟駅',\n",
       " '東武伊勢崎線/押上駅',\n",
       " '東武伊勢崎線/曳舟駅',\n",
       " '都営浅草線/押上駅'}"
      ]
     },
     "execution_count": 8,
     "metadata": {},
     "output_type": "execute_result"
    }
   ],
   "source": [
    "set(station_line_list)"
   ]
  },
  {
   "cell_type": "code",
   "execution_count": 9,
   "id": "47bf5859",
   "metadata": {},
   "outputs": [],
   "source": [
    "station_list = []\n",
    "line_list = []"
   ]
  },
  {
   "cell_type": "code",
   "execution_count": 10,
   "id": "4133aff7",
   "metadata": {},
   "outputs": [],
   "source": [
    "for i in station_line_list:\n",
    "    station_list.append(i.split(\"/\")[1])\n",
    "    line_list.append(i.split(\"/\")[0])"
   ]
  },
  {
   "cell_type": "code",
   "execution_count": 11,
   "id": "f1e9d6e3",
   "metadata": {},
   "outputs": [
    {
     "data": {
      "text/plain": [
       "{'押上駅', '曳舟駅'}"
      ]
     },
     "execution_count": 11,
     "metadata": {},
     "output_type": "execute_result"
    }
   ],
   "source": [
    "set(station_list)"
   ]
  },
  {
   "cell_type": "code",
   "execution_count": 12,
   "id": "fdfe38dd",
   "metadata": {},
   "outputs": [
    {
     "data": {
      "text/plain": [
       "{'京成押上線', '東京メトロ半蔵門線', '東武亀戸線', '東武伊勢崎線', '都営浅草線'}"
      ]
     },
     "execution_count": 12,
     "metadata": {},
     "output_type": "execute_result"
    }
   ],
   "source": [
    "set(line_list)"
   ]
  },
  {
   "cell_type": "code",
   "execution_count": 13,
   "id": "a06ddae2",
   "metadata": {},
   "outputs": [],
   "source": [
    "bus_list = []\n",
    "walk_list =[]\n",
    "time_list = []"
   ]
  },
  {
   "cell_type": "code",
   "execution_count": 14,
   "id": "e1a6ae2e",
   "metadata": {},
   "outputs": [],
   "source": [
    "for i in time_move_list:\n",
    "    if \"歩\" in i:\n",
    "        bus_list.append(0)\n",
    "        walk_list.append(1)\n",
    "        time_list.append(re.sub(r\"\\D\", \"\", i))\n",
    "    else:\n",
    "        bus_list.append(1)\n",
    "        walk_list.append(0)\n",
    "        time_list.append(re.sub(r\"\\D\", \"\", i))"
   ]
  },
  {
   "cell_type": "code",
   "execution_count": 15,
   "id": "e2fe36af",
   "metadata": {},
   "outputs": [],
   "source": [
    "df[\"station\"] = pd.Series(station_list)\n",
    "df[\"line\"] = pd.Series(line_list)\n",
    "df[\"bus\"] = pd.Series(bus_list)\n",
    "df[\"walk\"] = pd.Series(walk_list)\n",
    "df[\"time\"] = pd.Series(time_list).astype(float)"
   ]
  },
  {
   "cell_type": "code",
   "execution_count": 16,
   "id": "6554751f",
   "metadata": {},
   "outputs": [],
   "source": [
    "price_list = []\n",
    "manage_list = []"
   ]
  },
  {
   "cell_type": "code",
   "execution_count": 17,
   "id": "e7ca9b05",
   "metadata": {},
   "outputs": [],
   "source": [
    "for i in df[\"price\"]:\n",
    "    price_list.append(i.split(\" \")[0].replace(\"万円\",\"\"))\n",
    "    manage_list.append(i.split(\" \")[3].replace(\"円\",\"\"))"
   ]
  },
  {
   "cell_type": "code",
   "execution_count": 18,
   "id": "4be80f80",
   "metadata": {},
   "outputs": [],
   "source": [
    "manage_fee_list = []"
   ]
  },
  {
   "cell_type": "code",
   "execution_count": 19,
   "id": "f07a332e",
   "metadata": {},
   "outputs": [],
   "source": [
    "for i in manage_list:\n",
    "    if i == \"-\":\n",
    "        manage_fee_list.append(\"0\")\n",
    "    else:\n",
    "        manage_fee_list.append(i)"
   ]
  },
  {
   "cell_type": "code",
   "execution_count": 20,
   "id": "05a25491",
   "metadata": {},
   "outputs": [],
   "source": [
    "df[\"price\"] = pd.Series(price_list).astype(float)\n",
    "df[\"manage\"] = pd.Series(manage_fee_list).astype(float)"
   ]
  },
  {
   "cell_type": "code",
   "execution_count": 21,
   "id": "97430b46",
   "metadata": {},
   "outputs": [],
   "source": [
    "sikikin_pre = []\n",
    "reikin_pre = []\n",
    "deposit_pre = []\n",
    "sikibiki_pre = []"
   ]
  },
  {
   "cell_type": "code",
   "execution_count": 22,
   "id": "a0541f6c",
   "metadata": {},
   "outputs": [],
   "source": [
    "a = \"敷9.75万円\""
   ]
  },
  {
   "cell_type": "code",
   "execution_count": 23,
   "id": "d91a2180",
   "metadata": {},
   "outputs": [
    {
     "name": "stdout",
     "output_type": "stream",
     "text": [
      "9.75万円\n"
     ]
    }
   ],
   "source": [
    "print(a.split(\"敷\")[1])"
   ]
  },
  {
   "cell_type": "code",
   "execution_count": 24,
   "id": "7b62d00b",
   "metadata": {},
   "outputs": [],
   "source": [
    "for i in df[\"sikikinreikin\"]:\n",
    "    sikikin_pre.append(i.split(\" \")[0])\n",
    "    reikin_pre.append(i.split(\" \")[2])\n",
    "    deposit_pre.append(i.split(\" \")[4])\n",
    "    sikibiki_pre.append(i.split(\" \")[6])"
   ]
  },
  {
   "cell_type": "code",
   "execution_count": 25,
   "id": "2a56d82a",
   "metadata": {},
   "outputs": [],
   "source": [
    "sikikin_list = []\n",
    "reikin_list = []\n",
    "deposit_list = []\n",
    "sikibiki_list = []"
   ]
  },
  {
   "cell_type": "code",
   "execution_count": 26,
   "id": "1c381682",
   "metadata": {},
   "outputs": [],
   "source": [
    "for i in sikikin_pre:\n",
    "    a = i.split(\"敷\")[1]\n",
    "    if \"万円\" in a:\n",
    "        sikikin_list.append(a.replace(\"万円\",\"\"))\n",
    "    else:\n",
    "        sikikin_list.append(0)\n",
    "\n",
    "for i in reikin_pre:\n",
    "    a = i.split('礼')[1]\n",
    "    if \"万円\" in a:\n",
    "        reikin_list.append(a.replace(\"万円\",\"\"))\n",
    "    else:\n",
    "        reikin_list.append(0)\n",
    "\n",
    "for i in deposit_pre:\n",
    "    a = i.split('\\xa0')[1]\n",
    "    if \"万円\" in a:\n",
    "        deposit_list.append(a.replace(\"万円\",\"\"))\n",
    "    else:\n",
    "        deposit_list.append(0)\n",
    "        \n",
    "for i in sikibiki_pre:\n",
    "    a = i.split(\"\\xa0\")[1]\n",
    "    if \"万円\" in a:\n",
    "        sikibiki_list.append(a.replace(\"万円\",\"\"))\n",
    "    elif \"-\" in a:\n",
    "        sikibiki_list.append(0)\n",
    "    else:\n",
    "        sikibiki_list.append(\"実費\")"
   ]
  },
  {
   "cell_type": "code",
   "execution_count": 27,
   "id": "23e51b06",
   "metadata": {},
   "outputs": [],
   "source": [
    "df[\"sikikin\"] = pd.Series(sikikin_list).astype(float)\n",
    "df[\"reikin\"] = pd.Series(reikin_list).astype(float)\n",
    "df[\"deposit\"] = pd.Series(deposit_list).astype(float)\n",
    "df[\"sikibiki\"] = pd.Series(sikibiki_list)"
   ]
  },
  {
   "cell_type": "code",
   "execution_count": 28,
   "id": "51250837",
   "metadata": {},
   "outputs": [
    {
     "data": {
      "text/plain": [
       "array(['1K  25.25m2  東', '1K  15.24m2  -', 'ワンルーム  10.5m2  南東', ...,\n",
       "       'ワンルーム  13.11m2  南', '1K  20.42m2  -', 'ワンルーム  18.13m2  南'],\n",
       "      dtype=object)"
      ]
     },
     "execution_count": 28,
     "metadata": {},
     "output_type": "execute_result"
    }
   ],
   "source": [
    "df[\"room\"].unique()"
   ]
  },
  {
   "cell_type": "code",
   "execution_count": 29,
   "id": "4404ef70",
   "metadata": {},
   "outputs": [],
   "source": [
    "room_type_pre = []\n",
    "area_pre = []\n",
    "direction_pre = []"
   ]
  },
  {
   "cell_type": "code",
   "execution_count": 30,
   "id": "7204f462",
   "metadata": {},
   "outputs": [],
   "source": [
    "for i in df[\"room\"]:\n",
    "    room_type_pre.append(i.split(\" \")[0])\n",
    "    area_pre.append(i.split(\" \")[2])\n",
    "    direction_pre.append(i.split(\" \")[4])"
   ]
  },
  {
   "cell_type": "code",
   "execution_count": 31,
   "id": "142ec3b7",
   "metadata": {},
   "outputs": [],
   "source": [
    "room_list = []\n",
    "L_list = []\n",
    "D_list = []\n",
    "S_list = []\n",
    "K_list = []\n",
    "R_list = []"
   ]
  },
  {
   "cell_type": "code",
   "execution_count": 32,
   "id": "80de8d8b",
   "metadata": {},
   "outputs": [],
   "source": [
    "for i in room_type_pre:\n",
    "    if i == \"ワンルーム\":\n",
    "        R_list.append(1)\n",
    "    else:\n",
    "        R_list.append(0)\n",
    "        \n",
    "    if \"L\" in i:\n",
    "        L_list.append(1)\n",
    "    else:\n",
    "        L_list.append(0)\n",
    "    \n",
    "    if \"D\" in i:\n",
    "        D_list.append(1)\n",
    "    else:\n",
    "        D_list.append(0)\n",
    "        \n",
    "    if \"S\" in i:\n",
    "        S_list.append(1)\n",
    "    else:\n",
    "        S_list.append(0)\n",
    "        \n",
    "    if \"K\" in i:\n",
    "        K_list.append(1)\n",
    "    else:\n",
    "        K_list.append(0)\n",
    "    \n",
    "    if i != \"ワンルーム\":\n",
    "        room_list.append(re.sub(r\"\\D\", \"\", i))\n",
    "    else:\n",
    "        room_list.append(0)"
   ]
  },
  {
   "cell_type": "code",
   "execution_count": 33,
   "id": "d2f94dd6",
   "metadata": {},
   "outputs": [],
   "source": [
    "df[\"room\"] = pd.Series(room_list).astype(int)\n",
    "df[\"L\"] = pd.Series(L_list).astype(int)\n",
    "df[\"D\"] = pd.Series(D_list).astype(int)\n",
    "df[\"S\"] = pd.Series(S_list).astype(int)\n",
    "df[\"K\"] = pd.Series(K_list).astype(int)\n",
    "df[\"R\"] = pd.Series(R_list).astype(int)"
   ]
  },
  {
   "cell_type": "code",
   "execution_count": 34,
   "id": "13e8480b",
   "metadata": {},
   "outputs": [],
   "source": [
    "area_list = []"
   ]
  },
  {
   "cell_type": "code",
   "execution_count": 35,
   "id": "387da6f0",
   "metadata": {},
   "outputs": [],
   "source": [
    "for i in area_pre:\n",
    "    area_list.append(i.replace(\"m2\",\"\"))"
   ]
  },
  {
   "cell_type": "code",
   "execution_count": 36,
   "id": "cfd9a91b",
   "metadata": {},
   "outputs": [],
   "source": [
    "df[\"area\"] = pd.Series(area_list)"
   ]
  },
  {
   "cell_type": "code",
   "execution_count": 37,
   "id": "f0dfccb2",
   "metadata": {},
   "outputs": [
    {
     "data": {
      "text/plain": [
       "{'-', '北', '北東', '北西', '南', '南東', '南西', '東', '西'}"
      ]
     },
     "execution_count": 37,
     "metadata": {},
     "output_type": "execute_result"
    }
   ],
   "source": [
    "set(direction_pre)"
   ]
  },
  {
   "cell_type": "code",
   "execution_count": 38,
   "id": "9bd995e7",
   "metadata": {},
   "outputs": [],
   "source": [
    "direction_list = []"
   ]
  },
  {
   "cell_type": "code",
   "execution_count": 39,
   "id": "3a84422e",
   "metadata": {},
   "outputs": [],
   "source": [
    "for i in direction_pre:\n",
    "    if i == \"-\":\n",
    "        direction_list.append(\"なし\")\n",
    "    else:\n",
    "        direction_list.append(i)"
   ]
  },
  {
   "cell_type": "code",
   "execution_count": 40,
   "id": "b131497b",
   "metadata": {},
   "outputs": [],
   "source": [
    "df[\"direction\"] = pd.Series(direction_list)"
   ]
  },
  {
   "cell_type": "code",
   "execution_count": 41,
   "id": "4278bd41",
   "metadata": {},
   "outputs": [],
   "source": [
    "type_list = []\n",
    "age_pre = []"
   ]
  },
  {
   "cell_type": "code",
   "execution_count": 42,
   "id": "581638d4",
   "metadata": {},
   "outputs": [],
   "source": [
    "a = \"マンション  築6年\""
   ]
  },
  {
   "cell_type": "code",
   "execution_count": 43,
   "id": "0770d30e",
   "metadata": {},
   "outputs": [
    {
     "data": {
      "text/plain": [
       "'築6年'"
      ]
     },
     "execution_count": 43,
     "metadata": {},
     "output_type": "execute_result"
    }
   ],
   "source": [
    "a.split(\" \")[2]"
   ]
  },
  {
   "cell_type": "code",
   "execution_count": 44,
   "id": "aaace487",
   "metadata": {},
   "outputs": [],
   "source": [
    "for i in df[\"age\"]:\n",
    "    type_list.append(i.split(\" \")[0])\n",
    "    age_pre.append(i.split(\" \")[2])"
   ]
  },
  {
   "cell_type": "code",
   "execution_count": 45,
   "id": "7c412474",
   "metadata": {},
   "outputs": [],
   "source": [
    "age_list = []"
   ]
  },
  {
   "cell_type": "code",
   "execution_count": 46,
   "id": "555879bb",
   "metadata": {},
   "outputs": [],
   "source": [
    "for i in age_pre:\n",
    "    if i == \"新築\":\n",
    "        age_list.append(0)\n",
    "    else:\n",
    "        age_list.append(re.sub(r\"\\D\", \"\", i))"
   ]
  },
  {
   "cell_type": "code",
   "execution_count": 47,
   "id": "6f16d949",
   "metadata": {},
   "outputs": [],
   "source": [
    "df[\"type\"] = pd.Series(type_list)\n",
    "df[\"age\"] = pd.Series(age_list).astype(float)"
   ]
  },
  {
   "cell_type": "code",
   "execution_count": 48,
   "id": "b87ab7df",
   "metadata": {},
   "outputs": [],
   "source": [
    "df = df.drop(\"sikikinreikin\",axis=1)"
   ]
  },
  {
   "cell_type": "code",
   "execution_count": 49,
   "id": "976c3978",
   "metadata": {},
   "outputs": [
    {
     "data": {
      "text/html": [
       "<div>\n",
       "<style scoped>\n",
       "    .dataframe tbody tr th:only-of-type {\n",
       "        vertical-align: middle;\n",
       "    }\n",
       "\n",
       "    .dataframe tbody tr th {\n",
       "        vertical-align: top;\n",
       "    }\n",
       "\n",
       "    .dataframe thead th {\n",
       "        text-align: right;\n",
       "    }\n",
       "</style>\n",
       "<table border=\"1\" class=\"dataframe\">\n",
       "  <thead>\n",
       "    <tr style=\"text-align: right;\">\n",
       "      <th></th>\n",
       "      <th>name</th>\n",
       "      <th>station</th>\n",
       "      <th>price</th>\n",
       "      <th>room</th>\n",
       "      <th>age</th>\n",
       "      <th>address</th>\n",
       "      <th>line</th>\n",
       "      <th>bus</th>\n",
       "      <th>walk</th>\n",
       "      <th>time</th>\n",
       "      <th>...</th>\n",
       "      <th>deposit</th>\n",
       "      <th>sikibiki</th>\n",
       "      <th>L</th>\n",
       "      <th>D</th>\n",
       "      <th>S</th>\n",
       "      <th>K</th>\n",
       "      <th>R</th>\n",
       "      <th>area</th>\n",
       "      <th>direction</th>\n",
       "      <th>type</th>\n",
       "    </tr>\n",
       "  </thead>\n",
       "  <tbody>\n",
       "    <tr>\n",
       "      <th>7411</th>\n",
       "      <td>ＡＲ向島</td>\n",
       "      <td>押上駅</td>\n",
       "      <td>15.6</td>\n",
       "      <td>1</td>\n",
       "      <td>0.0</td>\n",
       "      <td>東京都墨田区向島５</td>\n",
       "      <td>都営浅草線</td>\n",
       "      <td>0</td>\n",
       "      <td>1</td>\n",
       "      <td>12.0</td>\n",
       "      <td>...</td>\n",
       "      <td>0.0</td>\n",
       "      <td>実費</td>\n",
       "      <td>1</td>\n",
       "      <td>1</td>\n",
       "      <td>0</td>\n",
       "      <td>1</td>\n",
       "      <td>0</td>\n",
       "      <td>41.01</td>\n",
       "      <td>西</td>\n",
       "      <td>マンション</td>\n",
       "    </tr>\n",
       "    <tr>\n",
       "      <th>7619</th>\n",
       "      <td>ＡＲ向島</td>\n",
       "      <td>曳舟駅</td>\n",
       "      <td>9.5</td>\n",
       "      <td>1</td>\n",
       "      <td>0.0</td>\n",
       "      <td>東京都墨田区向島５</td>\n",
       "      <td>東武亀戸線</td>\n",
       "      <td>0</td>\n",
       "      <td>1</td>\n",
       "      <td>11.0</td>\n",
       "      <td>...</td>\n",
       "      <td>0.0</td>\n",
       "      <td>実費</td>\n",
       "      <td>0</td>\n",
       "      <td>0</td>\n",
       "      <td>0</td>\n",
       "      <td>1</td>\n",
       "      <td>0</td>\n",
       "      <td>25.58</td>\n",
       "      <td>西</td>\n",
       "      <td>マンション</td>\n",
       "    </tr>\n",
       "  </tbody>\n",
       "</table>\n",
       "<p>2 rows × 23 columns</p>\n",
       "</div>"
      ],
      "text/plain": [
       "      name station  price  room  age    address   line  bus  walk  time  ...  \\\n",
       "7411  ＡＲ向島     押上駅   15.6     1  0.0  東京都墨田区向島５  都営浅草線    0     1  12.0  ...   \n",
       "7619  ＡＲ向島     曳舟駅    9.5     1  0.0  東京都墨田区向島５  東武亀戸線    0     1  11.0  ...   \n",
       "\n",
       "      deposit  sikibiki  L  D  S  K  R   area  direction   type  \n",
       "7411      0.0        実費  1  1  0  1  0  41.01          西  マンション  \n",
       "7619      0.0        実費  0  0  0  1  0  25.58          西  マンション  \n",
       "\n",
       "[2 rows x 23 columns]"
      ]
     },
     "execution_count": 49,
     "metadata": {},
     "output_type": "execute_result"
    }
   ],
   "source": [
    "df[df[\"sikibiki\"]==\"実費\"]"
   ]
  },
  {
   "cell_type": "code",
   "execution_count": 50,
   "id": "705f6014",
   "metadata": {},
   "outputs": [
    {
     "data": {
      "text/plain": [
       "0.0"
      ]
     },
     "execution_count": 50,
     "metadata": {},
     "output_type": "execute_result"
    }
   ],
   "source": [
    "df[\"sikikin\"][7411]"
   ]
  },
  {
   "cell_type": "code",
   "execution_count": 51,
   "id": "9e007425",
   "metadata": {},
   "outputs": [
    {
     "data": {
      "text/plain": [
       "'実費'"
      ]
     },
     "execution_count": 51,
     "metadata": {},
     "output_type": "execute_result"
    }
   ],
   "source": [
    "df[\"sikibiki\"][7619]"
   ]
  },
  {
   "cell_type": "code",
   "execution_count": 52,
   "id": "795acb78",
   "metadata": {},
   "outputs": [
    {
     "data": {
      "text/plain": [
       "0.0"
      ]
     },
     "execution_count": 52,
     "metadata": {},
     "output_type": "execute_result"
    }
   ],
   "source": [
    "df[\"sikikin\"][7619]"
   ]
  },
  {
   "cell_type": "code",
   "execution_count": 53,
   "id": "2cd33048",
   "metadata": {},
   "outputs": [
    {
     "name": "stderr",
     "output_type": "stream",
     "text": [
      "<ipython-input-53-9448d5c7b276>:1: SettingWithCopyWarning: \n",
      "A value is trying to be set on a copy of a slice from a DataFrame\n",
      "\n",
      "See the caveats in the documentation: https://pandas.pydata.org/pandas-docs/stable/user_guide/indexing.html#returning-a-view-versus-a-copy\n",
      "  df[\"sikibiki\"][7411] = 6.1\n"
     ]
    }
   ],
   "source": [
    "df[\"sikibiki\"][7411] = 6.1"
   ]
  },
  {
   "cell_type": "code",
   "execution_count": 54,
   "id": "c58d682a",
   "metadata": {},
   "outputs": [
    {
     "name": "stderr",
     "output_type": "stream",
     "text": [
      "<ipython-input-54-e2bce3f1d924>:1: SettingWithCopyWarning: \n",
      "A value is trying to be set on a copy of a slice from a DataFrame\n",
      "\n",
      "See the caveats in the documentation: https://pandas.pydata.org/pandas-docs/stable/user_guide/indexing.html#returning-a-view-versus-a-copy\n",
      "  df[\"sikibiki\"][7619]  = 0.0\n"
     ]
    }
   ],
   "source": [
    "df[\"sikibiki\"][7619]  = 0.0"
   ]
  },
  {
   "cell_type": "code",
   "execution_count": 55,
   "id": "3400f98d",
   "metadata": {},
   "outputs": [
    {
     "data": {
      "text/html": [
       "<div>\n",
       "<style scoped>\n",
       "    .dataframe tbody tr th:only-of-type {\n",
       "        vertical-align: middle;\n",
       "    }\n",
       "\n",
       "    .dataframe tbody tr th {\n",
       "        vertical-align: top;\n",
       "    }\n",
       "\n",
       "    .dataframe thead th {\n",
       "        text-align: right;\n",
       "    }\n",
       "</style>\n",
       "<table border=\"1\" class=\"dataframe\">\n",
       "  <thead>\n",
       "    <tr style=\"text-align: right;\">\n",
       "      <th></th>\n",
       "      <th>name</th>\n",
       "      <th>station</th>\n",
       "      <th>price</th>\n",
       "      <th>room</th>\n",
       "      <th>age</th>\n",
       "      <th>address</th>\n",
       "      <th>line</th>\n",
       "      <th>bus</th>\n",
       "      <th>walk</th>\n",
       "      <th>time</th>\n",
       "      <th>...</th>\n",
       "      <th>deposit</th>\n",
       "      <th>sikibiki</th>\n",
       "      <th>L</th>\n",
       "      <th>D</th>\n",
       "      <th>S</th>\n",
       "      <th>K</th>\n",
       "      <th>R</th>\n",
       "      <th>area</th>\n",
       "      <th>direction</th>\n",
       "      <th>type</th>\n",
       "    </tr>\n",
       "  </thead>\n",
       "  <tbody>\n",
       "  </tbody>\n",
       "</table>\n",
       "<p>0 rows × 23 columns</p>\n",
       "</div>"
      ],
      "text/plain": [
       "Empty DataFrame\n",
       "Columns: [name, station, price, room, age, address, line, bus, walk, time, manage, sikikin, reikin, deposit, sikibiki, L, D, S, K, R, area, direction, type]\n",
       "Index: []\n",
       "\n",
       "[0 rows x 23 columns]"
      ]
     },
     "execution_count": 55,
     "metadata": {},
     "output_type": "execute_result"
    }
   ],
   "source": [
    "df[df[\"sikibiki\"]==\"実費\"]"
   ]
  },
  {
   "cell_type": "code",
   "execution_count": 56,
   "id": "11c5def3",
   "metadata": {},
   "outputs": [
    {
     "data": {
      "text/plain": [
       "Index(['name', 'station', 'price', 'room', 'age', 'address', 'line', 'bus',\n",
       "       'walk', 'time', 'manage', 'sikikin', 'reikin', 'deposit', 'sikibiki',\n",
       "       'L', 'D', 'S', 'K', 'R', 'area', 'direction', 'type'],\n",
       "      dtype='object')"
      ]
     },
     "execution_count": 56,
     "metadata": {},
     "output_type": "execute_result"
    }
   ],
   "source": [
    "df.columns"
   ]
  },
  {
   "cell_type": "code",
   "execution_count": 57,
   "id": "36c6b38b",
   "metadata": {},
   "outputs": [],
   "source": [
    "df = df.reindex(columns=[\"name\",\"price\",\"age\",\"manage\",\"sikikin\",\"reikin\",\"deposit\",\"sikibiki\",\"line\",\"station\",\"bus\",\"walk\",\"time\",\"room\",\"R\",\"L\",\"D\",\"S\",\"K\",\"area\",\"direction\",\"type\",\"address\"])"
   ]
  },
  {
   "cell_type": "code",
   "execution_count": 58,
   "id": "dddb8496",
   "metadata": {},
   "outputs": [
    {
     "data": {
      "text/html": [
       "<div>\n",
       "<style scoped>\n",
       "    .dataframe tbody tr th:only-of-type {\n",
       "        vertical-align: middle;\n",
       "    }\n",
       "\n",
       "    .dataframe tbody tr th {\n",
       "        vertical-align: top;\n",
       "    }\n",
       "\n",
       "    .dataframe thead th {\n",
       "        text-align: right;\n",
       "    }\n",
       "</style>\n",
       "<table border=\"1\" class=\"dataframe\">\n",
       "  <thead>\n",
       "    <tr style=\"text-align: right;\">\n",
       "      <th></th>\n",
       "      <th>name</th>\n",
       "      <th>price</th>\n",
       "      <th>age</th>\n",
       "      <th>manage</th>\n",
       "      <th>sikikin</th>\n",
       "      <th>reikin</th>\n",
       "      <th>deposit</th>\n",
       "      <th>sikibiki</th>\n",
       "      <th>line</th>\n",
       "      <th>station</th>\n",
       "      <th>...</th>\n",
       "      <th>room</th>\n",
       "      <th>R</th>\n",
       "      <th>L</th>\n",
       "      <th>D</th>\n",
       "      <th>S</th>\n",
       "      <th>K</th>\n",
       "      <th>area</th>\n",
       "      <th>direction</th>\n",
       "      <th>type</th>\n",
       "      <th>address</th>\n",
       "    </tr>\n",
       "  </thead>\n",
       "  <tbody>\n",
       "    <tr>\n",
       "      <th>0</th>\n",
       "      <td>アルテシモ　サリーレ</td>\n",
       "      <td>7.30</td>\n",
       "      <td>6.0</td>\n",
       "      <td>15000.0</td>\n",
       "      <td>0.0</td>\n",
       "      <td>7.30</td>\n",
       "      <td>0.0</td>\n",
       "      <td>0</td>\n",
       "      <td>東武伊勢崎線</td>\n",
       "      <td>曳舟駅</td>\n",
       "      <td>...</td>\n",
       "      <td>1</td>\n",
       "      <td>0</td>\n",
       "      <td>0</td>\n",
       "      <td>0</td>\n",
       "      <td>0</td>\n",
       "      <td>1</td>\n",
       "      <td>25.25</td>\n",
       "      <td>東</td>\n",
       "      <td>マンション</td>\n",
       "      <td>東京都墨田区京島１</td>\n",
       "    </tr>\n",
       "    <tr>\n",
       "      <th>1</th>\n",
       "      <td>Forbitezza</td>\n",
       "      <td>7.40</td>\n",
       "      <td>8.0</td>\n",
       "      <td>4000.0</td>\n",
       "      <td>0.0</td>\n",
       "      <td>0.00</td>\n",
       "      <td>0.0</td>\n",
       "      <td>0</td>\n",
       "      <td>東京メトロ半蔵門線</td>\n",
       "      <td>押上駅</td>\n",
       "      <td>...</td>\n",
       "      <td>1</td>\n",
       "      <td>0</td>\n",
       "      <td>0</td>\n",
       "      <td>0</td>\n",
       "      <td>0</td>\n",
       "      <td>1</td>\n",
       "      <td>15.24</td>\n",
       "      <td>なし</td>\n",
       "      <td>アパート</td>\n",
       "      <td>東京都墨田区押上２</td>\n",
       "    </tr>\n",
       "    <tr>\n",
       "      <th>2</th>\n",
       "      <td>京成押上線 押上駅 3階建 築8年</td>\n",
       "      <td>7.40</td>\n",
       "      <td>8.0</td>\n",
       "      <td>4000.0</td>\n",
       "      <td>0.0</td>\n",
       "      <td>0.00</td>\n",
       "      <td>0.0</td>\n",
       "      <td>0</td>\n",
       "      <td>京成押上線</td>\n",
       "      <td>押上駅</td>\n",
       "      <td>...</td>\n",
       "      <td>1</td>\n",
       "      <td>0</td>\n",
       "      <td>0</td>\n",
       "      <td>0</td>\n",
       "      <td>0</td>\n",
       "      <td>1</td>\n",
       "      <td>15.24</td>\n",
       "      <td>なし</td>\n",
       "      <td>アパート</td>\n",
       "      <td>東京都墨田区押上２</td>\n",
       "    </tr>\n",
       "    <tr>\n",
       "      <th>3</th>\n",
       "      <td>東武伊勢崎線 押上駅 2階建 築6年</td>\n",
       "      <td>5.65</td>\n",
       "      <td>6.0</td>\n",
       "      <td>3500.0</td>\n",
       "      <td>0.0</td>\n",
       "      <td>5.65</td>\n",
       "      <td>0.0</td>\n",
       "      <td>0</td>\n",
       "      <td>東武伊勢崎線</td>\n",
       "      <td>曳舟駅</td>\n",
       "      <td>...</td>\n",
       "      <td>0</td>\n",
       "      <td>1</td>\n",
       "      <td>0</td>\n",
       "      <td>0</td>\n",
       "      <td>0</td>\n",
       "      <td>0</td>\n",
       "      <td>10.5</td>\n",
       "      <td>南東</td>\n",
       "      <td>アパート</td>\n",
       "      <td>東京都墨田区文花１</td>\n",
       "    </tr>\n",
       "    <tr>\n",
       "      <th>4</th>\n",
       "      <td>京成押上線 京成曳舟駅 5階建 築5年</td>\n",
       "      <td>9.70</td>\n",
       "      <td>5.0</td>\n",
       "      <td>10000.0</td>\n",
       "      <td>9.7</td>\n",
       "      <td>9.70</td>\n",
       "      <td>0.0</td>\n",
       "      <td>0</td>\n",
       "      <td>京成押上線</td>\n",
       "      <td>押上駅</td>\n",
       "      <td>...</td>\n",
       "      <td>1</td>\n",
       "      <td>0</td>\n",
       "      <td>1</td>\n",
       "      <td>1</td>\n",
       "      <td>0</td>\n",
       "      <td>1</td>\n",
       "      <td>30.09</td>\n",
       "      <td>なし</td>\n",
       "      <td>マンション</td>\n",
       "      <td>東京都墨田区八広１</td>\n",
       "    </tr>\n",
       "    <tr>\n",
       "      <th>...</th>\n",
       "      <td>...</td>\n",
       "      <td>...</td>\n",
       "      <td>...</td>\n",
       "      <td>...</td>\n",
       "      <td>...</td>\n",
       "      <td>...</td>\n",
       "      <td>...</td>\n",
       "      <td>...</td>\n",
       "      <td>...</td>\n",
       "      <td>...</td>\n",
       "      <td>...</td>\n",
       "      <td>...</td>\n",
       "      <td>...</td>\n",
       "      <td>...</td>\n",
       "      <td>...</td>\n",
       "      <td>...</td>\n",
       "      <td>...</td>\n",
       "      <td>...</td>\n",
       "      <td>...</td>\n",
       "      <td>...</td>\n",
       "      <td>...</td>\n",
       "    </tr>\n",
       "    <tr>\n",
       "      <th>20551</th>\n",
       "      <td>ハイツ岡 203号室</td>\n",
       "      <td>7.00</td>\n",
       "      <td>41.0</td>\n",
       "      <td>0.0</td>\n",
       "      <td>7.0</td>\n",
       "      <td>0.00</td>\n",
       "      <td>0.0</td>\n",
       "      <td>7</td>\n",
       "      <td>東京メトロ半蔵門線</td>\n",
       "      <td>押上駅</td>\n",
       "      <td>...</td>\n",
       "      <td>2</td>\n",
       "      <td>0</td>\n",
       "      <td>0</td>\n",
       "      <td>0</td>\n",
       "      <td>0</td>\n",
       "      <td>1</td>\n",
       "      <td>33</td>\n",
       "      <td>南</td>\n",
       "      <td>マンション</td>\n",
       "      <td>東京都墨田区八広２</td>\n",
       "    </tr>\n",
       "    <tr>\n",
       "      <th>20552</th>\n",
       "      <td>東京メトロ半蔵門線 押上駅 4階建 築41年</td>\n",
       "      <td>7.00</td>\n",
       "      <td>41.0</td>\n",
       "      <td>0.0</td>\n",
       "      <td>7.0</td>\n",
       "      <td>0.00</td>\n",
       "      <td>0.0</td>\n",
       "      <td>7</td>\n",
       "      <td>東京メトロ半蔵門線</td>\n",
       "      <td>押上駅</td>\n",
       "      <td>...</td>\n",
       "      <td>2</td>\n",
       "      <td>0</td>\n",
       "      <td>0</td>\n",
       "      <td>0</td>\n",
       "      <td>0</td>\n",
       "      <td>1</td>\n",
       "      <td>33</td>\n",
       "      <td>南</td>\n",
       "      <td>マンション</td>\n",
       "      <td>東京都墨田区八広２</td>\n",
       "    </tr>\n",
       "    <tr>\n",
       "      <th>20553</th>\n",
       "      <td>ハイツ岡 203号室</td>\n",
       "      <td>7.00</td>\n",
       "      <td>41.0</td>\n",
       "      <td>0.0</td>\n",
       "      <td>7.0</td>\n",
       "      <td>0.00</td>\n",
       "      <td>0.0</td>\n",
       "      <td>7</td>\n",
       "      <td>東京メトロ半蔵門線</td>\n",
       "      <td>押上駅</td>\n",
       "      <td>...</td>\n",
       "      <td>2</td>\n",
       "      <td>0</td>\n",
       "      <td>0</td>\n",
       "      <td>0</td>\n",
       "      <td>0</td>\n",
       "      <td>1</td>\n",
       "      <td>33</td>\n",
       "      <td>南</td>\n",
       "      <td>マンション</td>\n",
       "      <td>東京都墨田区八広２</td>\n",
       "    </tr>\n",
       "    <tr>\n",
       "      <th>20554</th>\n",
       "      <td>ハイツ岡 203号室</td>\n",
       "      <td>7.00</td>\n",
       "      <td>41.0</td>\n",
       "      <td>0.0</td>\n",
       "      <td>7.0</td>\n",
       "      <td>0.00</td>\n",
       "      <td>0.0</td>\n",
       "      <td>7</td>\n",
       "      <td>東京メトロ半蔵門線</td>\n",
       "      <td>押上駅</td>\n",
       "      <td>...</td>\n",
       "      <td>2</td>\n",
       "      <td>0</td>\n",
       "      <td>0</td>\n",
       "      <td>0</td>\n",
       "      <td>0</td>\n",
       "      <td>1</td>\n",
       "      <td>33</td>\n",
       "      <td>南</td>\n",
       "      <td>マンション</td>\n",
       "      <td>東京都墨田区八広２</td>\n",
       "    </tr>\n",
       "    <tr>\n",
       "      <th>20555</th>\n",
       "      <td>ホーユーコンフォルト隅田公園</td>\n",
       "      <td>6.00</td>\n",
       "      <td>34.0</td>\n",
       "      <td>3000.0</td>\n",
       "      <td>0.0</td>\n",
       "      <td>0.00</td>\n",
       "      <td>0.0</td>\n",
       "      <td>0</td>\n",
       "      <td>東京メトロ半蔵門線</td>\n",
       "      <td>押上駅</td>\n",
       "      <td>...</td>\n",
       "      <td>0</td>\n",
       "      <td>1</td>\n",
       "      <td>0</td>\n",
       "      <td>0</td>\n",
       "      <td>0</td>\n",
       "      <td>0</td>\n",
       "      <td>18</td>\n",
       "      <td>南</td>\n",
       "      <td>マンション</td>\n",
       "      <td>東京都墨田区業平２</td>\n",
       "    </tr>\n",
       "  </tbody>\n",
       "</table>\n",
       "<p>20556 rows × 23 columns</p>\n",
       "</div>"
      ],
      "text/plain": [
       "                         name  price   age   manage  sikikin  reikin  deposit  \\\n",
       "0                  アルテシモ　サリーレ   7.30   6.0  15000.0      0.0    7.30      0.0   \n",
       "1                  Forbitezza   7.40   8.0   4000.0      0.0    0.00      0.0   \n",
       "2           京成押上線 押上駅 3階建 築8年   7.40   8.0   4000.0      0.0    0.00      0.0   \n",
       "3          東武伊勢崎線 押上駅 2階建 築6年   5.65   6.0   3500.0      0.0    5.65      0.0   \n",
       "4         京成押上線 京成曳舟駅 5階建 築5年   9.70   5.0  10000.0      9.7    9.70      0.0   \n",
       "...                       ...    ...   ...      ...      ...     ...      ...   \n",
       "20551              ハイツ岡 203号室   7.00  41.0      0.0      7.0    0.00      0.0   \n",
       "20552  東京メトロ半蔵門線 押上駅 4階建 築41年   7.00  41.0      0.0      7.0    0.00      0.0   \n",
       "20553              ハイツ岡 203号室   7.00  41.0      0.0      7.0    0.00      0.0   \n",
       "20554              ハイツ岡 203号室   7.00  41.0      0.0      7.0    0.00      0.0   \n",
       "20555          ホーユーコンフォルト隅田公園   6.00  34.0   3000.0      0.0    0.00      0.0   \n",
       "\n",
       "      sikibiki       line station  ...  room  R  L  D  S  K   area  direction  \\\n",
       "0            0     東武伊勢崎線     曳舟駅  ...     1  0  0  0  0  1  25.25          東   \n",
       "1            0  東京メトロ半蔵門線     押上駅  ...     1  0  0  0  0  1  15.24         なし   \n",
       "2            0      京成押上線     押上駅  ...     1  0  0  0  0  1  15.24         なし   \n",
       "3            0     東武伊勢崎線     曳舟駅  ...     0  1  0  0  0  0   10.5         南東   \n",
       "4            0      京成押上線     押上駅  ...     1  0  1  1  0  1  30.09         なし   \n",
       "...        ...        ...     ...  ...   ... .. .. .. .. ..    ...        ...   \n",
       "20551        7  東京メトロ半蔵門線     押上駅  ...     2  0  0  0  0  1     33          南   \n",
       "20552        7  東京メトロ半蔵門線     押上駅  ...     2  0  0  0  0  1     33          南   \n",
       "20553        7  東京メトロ半蔵門線     押上駅  ...     2  0  0  0  0  1     33          南   \n",
       "20554        7  東京メトロ半蔵門線     押上駅  ...     2  0  0  0  0  1     33          南   \n",
       "20555        0  東京メトロ半蔵門線     押上駅  ...     0  1  0  0  0  0     18          南   \n",
       "\n",
       "        type    address  \n",
       "0      マンション  東京都墨田区京島１  \n",
       "1       アパート  東京都墨田区押上２  \n",
       "2       アパート  東京都墨田区押上２  \n",
       "3       アパート  東京都墨田区文花１  \n",
       "4      マンション  東京都墨田区八広１  \n",
       "...      ...        ...  \n",
       "20551  マンション  東京都墨田区八広２  \n",
       "20552  マンション  東京都墨田区八広２  \n",
       "20553  マンション  東京都墨田区八広２  \n",
       "20554  マンション  東京都墨田区八広２  \n",
       "20555  マンション  東京都墨田区業平２  \n",
       "\n",
       "[20556 rows x 23 columns]"
      ]
     },
     "execution_count": 58,
     "metadata": {},
     "output_type": "execute_result"
    }
   ],
   "source": [
    "df"
   ]
  },
  {
   "cell_type": "code",
   "execution_count": 59,
   "id": "ab896820",
   "metadata": {},
   "outputs": [],
   "source": [
    "df.to_csv(\"data/suumo_pre.csv\",index=False)"
   ]
  },
  {
   "cell_type": "code",
   "execution_count": null,
   "id": "c3c0cfa4",
   "metadata": {},
   "outputs": [],
   "source": []
  }
 ],
 "metadata": {
  "kernelspec": {
   "display_name": "Python 3",
   "language": "python",
   "name": "python3"
  },
  "language_info": {
   "codemirror_mode": {
    "name": "ipython",
    "version": 3
   },
   "file_extension": ".py",
   "mimetype": "text/x-python",
   "name": "python",
   "nbconvert_exporter": "python",
   "pygments_lexer": "ipython3",
   "version": "3.8.8"
  }
 },
 "nbformat": 4,
 "nbformat_minor": 5
}
