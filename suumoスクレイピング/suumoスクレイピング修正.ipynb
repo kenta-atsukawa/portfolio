{
 "cells": [
  {
   "cell_type": "code",
   "execution_count": 1,
   "id": "580fb14e",
   "metadata": {},
   "outputs": [],
   "source": [
    "import requests\n",
    "from bs4 import BeautifulSoup\n",
    "from tqdm import tqdm as tqdm \n",
    "import pandas as pd\n",
    "import time\n",
    "from fake_useragent import UserAgent"
   ]
  },
  {
   "cell_type": "code",
   "execution_count": 2,
   "id": "c064f546",
   "metadata": {},
   "outputs": [],
   "source": [
    "name = []\n",
    "station = []\n",
    "price = []\n",
    "sikikinreikin = []\n",
    "room = []\n",
    "age = []\n",
    "address = []"
   ]
  },
  {
   "cell_type": "code",
   "execution_count": 3,
   "id": "421aad73",
   "metadata": {},
   "outputs": [],
   "source": [
    "user_agent = \"Mozilla/5.0 (Macintosh; Intel Mac OS X 10_15_7) AppleWebKit/605.1.15 (KHTML, like Gecko) Version/15.1 Safari/605.1.15\"\n",
    "header = {'user-agent':user_agent}"
   ]
  },
  {
   "cell_type": "code",
   "execution_count": 4,
   "id": "4d401077",
   "metadata": {},
   "outputs": [
    {
     "name": "stderr",
     "output_type": "stream",
     "text": [
      "100%|██████████| 538/538 [30:24<00:00,  3.39s/it]\n"
     ]
    }
   ],
   "source": [
    "for p in tqdm(range(1,539)):\n",
    "        p=str(p)\n",
    "        url=\"https://suumo.jp/jj/chintai/ichiran/FR301FC005/?shkr1=03&cb=0.0&shkr3=03&rn=0440&shkr2=03&mt=9999999&ar=030&bs=040&shkr4=03&ct=9999999&ra=013&ek=044006820&cn=9999999&mb=0&fw2=&et=9999999\" + \"&page=\" + p\n",
    "        \n",
    "        urls=requests.get(url,headers=header)\n",
    "        time.sleep(2)\n",
    "        urls.encoding = urls.apparent_encoding \n",
    "        soup=BeautifulSoup()\n",
    "        soup=BeautifulSoup(urls.content,\"html.parser\")\n",
    "        house_name = soup.find_all(\"a\",class_=\"js-cassetLinkHref\")\n",
    "        station_name = soup.find_all(\"div\",style=\"font-weight:bold\")\n",
    "        table_data = pd.read_html(urls.content)\n",
    "        for h in house_name:\n",
    "            name.append(h.text)\n",
    "        for s in station_name:\n",
    "            station.append(s.text)\n",
    "        \n",
    "        for i in range(0,30):\n",
    "            table = table_data[i]\n",
    "            price.append(table[0])\n",
    "            sikikinreikin.append(table[1])\n",
    "            room.append(table[2])\n",
    "            age.append(table[3])\n",
    "            address.append(table[4])"
   ]
  },
  {
   "cell_type": "code",
   "execution_count": 5,
   "id": "aafff53b",
   "metadata": {},
   "outputs": [],
   "source": [
    "name_s=pd.Series(name)\n",
    "station_s=pd.Series(station)\n",
    "price_s=pd.Series(price)\n",
    "sikikinreikin_s=pd.Series(sikikinreikin)\n",
    "room_s=pd.Series(room)\n",
    "age_s = pd.Series(age)\n",
    "address_s=pd.Series(address)\n",
    "\n",
    "df=pd.concat([name_s,station_s,price_s,sikikinreikin_s,room_s,age_s,address_s],axis=1)\n",
    "\n",
    "df.columns=[\"name\",\"station\",\"price\",\"sikikinreikin\",\"room\",\"age\",\"address\"]\n"
   ]
  },
  {
   "cell_type": "code",
   "execution_count": 7,
   "id": "3f22d046",
   "metadata": {},
   "outputs": [
    {
     "data": {
      "text/plain": [
       "name             0\n",
       "station          0\n",
       "price            0\n",
       "sikikinreikin    0\n",
       "room             0\n",
       "age              0\n",
       "address          0\n",
       "dtype: int64"
      ]
     },
     "execution_count": 7,
     "metadata": {},
     "output_type": "execute_result"
    }
   ],
   "source": [
    "df.isnull().sum()"
   ]
  },
  {
   "cell_type": "code",
   "execution_count": 8,
   "id": "f5beb5b0",
   "metadata": {},
   "outputs": [],
   "source": [
    "df.to_csv('data/suumo.csv',header=True, index=False) # csvに保存"
   ]
  },
  {
   "cell_type": "code",
   "execution_count": null,
   "id": "8d2c6bd1",
   "metadata": {},
   "outputs": [],
   "source": []
  }
 ],
 "metadata": {
  "kernelspec": {
   "display_name": "Python 3",
   "language": "python",
   "name": "python3"
  },
  "language_info": {
   "codemirror_mode": {
    "name": "ipython",
    "version": 3
   },
   "file_extension": ".py",
   "mimetype": "text/x-python",
   "name": "python",
   "nbconvert_exporter": "python",
   "pygments_lexer": "ipython3",
   "version": "3.8.8"
  }
 },
 "nbformat": 4,
 "nbformat_minor": 5
}
