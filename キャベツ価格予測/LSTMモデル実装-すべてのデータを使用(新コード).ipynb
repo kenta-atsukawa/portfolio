{
 "cells": [
  {
   "cell_type": "code",
   "execution_count": 1,
   "id": "e28709a5",
   "metadata": {},
   "outputs": [],
   "source": [
    "import numpy as np\n",
    "import pandas as pd\n",
    "from matplotlib import pyplot as plt\n",
    "%matplotlib inline\n",
    "import seaborn as sns\n",
    "import time"
   ]
  },
  {
   "cell_type": "code",
   "execution_count": 2,
   "id": "c86247c9",
   "metadata": {},
   "outputs": [],
   "source": [
    "df = pd.read_csv('data/train_data.csv',index_col=\"調査日\",parse_dates=True)"
   ]
  },
  {
   "cell_type": "code",
   "execution_count": 3,
   "id": "8193f279",
   "metadata": {},
   "outputs": [],
   "source": [
    "def make_dataset(raw_data, look_back):\n",
    "    _X = []\n",
    "    _y = []\n",
    "\n",
    "    for i in range(len(raw_data) - look_back):\n",
    "        _X.append(raw_data[i : i + look_back])\n",
    "        _y.append(raw_data[i + look_back])\n",
    "    _X = np.array(_X).reshape(len(_X), look_back, 1)\n",
    "    _y = np.array(_y).reshape(len(_y), 1)\n",
    "\n",
    "    return _X, _y"
   ]
  },
  {
   "cell_type": "code",
   "execution_count": 4,
   "id": "03c4bd27",
   "metadata": {},
   "outputs": [],
   "source": [
    "df_X = df[[col for col in df.columns if col not in ['キャベツ']]]\n",
    "df_y = df[\"キャベツ\"]"
   ]
  },
  {
   "cell_type": "code",
   "execution_count": 5,
   "id": "980b9a0a",
   "metadata": {},
   "outputs": [
    {
     "name": "stderr",
     "output_type": "stream",
     "text": [
      "/Users/atsukawakenta/opt/anaconda3/envs/anaconda/lib/python3.7/site-packages/ipykernel_launcher.py:6: FutureWarning: Support for multi-dimensional indexing (e.g. `obj[:, None]`) is deprecated and will be removed in a future version.  Convert to a numpy array before indexing instead.\n",
      "  \n"
     ]
    }
   ],
   "source": [
    "#0〜1にスケーリング\n",
    "from sklearn.preprocessing import StandardScaler\n",
    "scaler_X = StandardScaler()\n",
    "scaler_y = StandardScaler()\n",
    "df_scale_X = pd.DataFrame(scaler_X.fit_transform(df),index=df.index,columns=df.columns)\n",
    "df_scale_y = pd.DataFrame(scaler_y.fit_transform(df_y[:,np.newaxis]).flatten(),index=df.index)"
   ]
  },
  {
   "cell_type": "code",
   "execution_count": 6,
   "id": "9938900f",
   "metadata": {},
   "outputs": [
    {
     "data": {
      "text/html": [
       "<div>\n",
       "<style scoped>\n",
       "    .dataframe tbody tr th:only-of-type {\n",
       "        vertical-align: middle;\n",
       "    }\n",
       "\n",
       "    .dataframe tbody tr th {\n",
       "        vertical-align: top;\n",
       "    }\n",
       "\n",
       "    .dataframe thead th {\n",
       "        text-align: right;\n",
       "    }\n",
       "</style>\n",
       "<table border=\"1\" class=\"dataframe\">\n",
       "  <thead>\n",
       "    <tr style=\"text-align: right;\">\n",
       "      <th></th>\n",
       "      <th>キャベツ</th>\n",
       "      <th>愛知平均気温</th>\n",
       "      <th>愛知降水量の合計</th>\n",
       "      <th>愛知日照時間</th>\n",
       "      <th>千葉平均気温</th>\n",
       "      <th>千葉降水量の合計</th>\n",
       "      <th>千葉日照時間</th>\n",
       "      <th>群馬平均気温</th>\n",
       "      <th>群馬降水量の合計</th>\n",
       "      <th>群馬日照時間</th>\n",
       "    </tr>\n",
       "    <tr>\n",
       "      <th>調査日</th>\n",
       "      <th></th>\n",
       "      <th></th>\n",
       "      <th></th>\n",
       "      <th></th>\n",
       "      <th></th>\n",
       "      <th></th>\n",
       "      <th></th>\n",
       "      <th></th>\n",
       "      <th></th>\n",
       "      <th></th>\n",
       "    </tr>\n",
       "  </thead>\n",
       "  <tbody>\n",
       "    <tr>\n",
       "      <th>2017-01-02</th>\n",
       "      <td>231</td>\n",
       "      <td>8.085714</td>\n",
       "      <td>1.357143</td>\n",
       "      <td>7.357143</td>\n",
       "      <td>8.257143</td>\n",
       "      <td>0.642857</td>\n",
       "      <td>6.414286</td>\n",
       "      <td>-2.185714</td>\n",
       "      <td>2.857143</td>\n",
       "      <td>6.028571</td>\n",
       "    </tr>\n",
       "    <tr>\n",
       "      <th>2017-01-09</th>\n",
       "      <td>210</td>\n",
       "      <td>7.300000</td>\n",
       "      <td>3.285714</td>\n",
       "      <td>4.814286</td>\n",
       "      <td>7.942857</td>\n",
       "      <td>7.142857</td>\n",
       "      <td>5.485714</td>\n",
       "      <td>-2.957143</td>\n",
       "      <td>2.071429</td>\n",
       "      <td>4.385714</td>\n",
       "    </tr>\n",
       "    <tr>\n",
       "      <th>2017-01-16</th>\n",
       "      <td>197</td>\n",
       "      <td>5.157143</td>\n",
       "      <td>1.857143</td>\n",
       "      <td>4.914286</td>\n",
       "      <td>5.314286</td>\n",
       "      <td>0.000000</td>\n",
       "      <td>8.071429</td>\n",
       "      <td>-5.742857</td>\n",
       "      <td>2.642857</td>\n",
       "      <td>3.157143</td>\n",
       "    </tr>\n",
       "    <tr>\n",
       "      <th>2017-01-23</th>\n",
       "      <td>199</td>\n",
       "      <td>5.128571</td>\n",
       "      <td>0.000000</td>\n",
       "      <td>5.800000</td>\n",
       "      <td>6.414286</td>\n",
       "      <td>1.428571</td>\n",
       "      <td>6.500000</td>\n",
       "      <td>-6.171429</td>\n",
       "      <td>3.357143</td>\n",
       "      <td>4.728571</td>\n",
       "    </tr>\n",
       "    <tr>\n",
       "      <th>2017-01-30</th>\n",
       "      <td>202</td>\n",
       "      <td>5.485714</td>\n",
       "      <td>0.785714</td>\n",
       "      <td>6.785714</td>\n",
       "      <td>8.085714</td>\n",
       "      <td>0.214286</td>\n",
       "      <td>7.171429</td>\n",
       "      <td>-3.771429</td>\n",
       "      <td>0.857143</td>\n",
       "      <td>5.085714</td>\n",
       "    </tr>\n",
       "    <tr>\n",
       "      <th>...</th>\n",
       "      <td>...</td>\n",
       "      <td>...</td>\n",
       "      <td>...</td>\n",
       "      <td>...</td>\n",
       "      <td>...</td>\n",
       "      <td>...</td>\n",
       "      <td>...</td>\n",
       "      <td>...</td>\n",
       "      <td>...</td>\n",
       "      <td>...</td>\n",
       "    </tr>\n",
       "    <tr>\n",
       "      <th>2022-02-07</th>\n",
       "      <td>170</td>\n",
       "      <td>5.100000</td>\n",
       "      <td>0.000000</td>\n",
       "      <td>6.228571</td>\n",
       "      <td>5.071429</td>\n",
       "      <td>0.000000</td>\n",
       "      <td>7.828571</td>\n",
       "      <td>-6.057143</td>\n",
       "      <td>0.285714</td>\n",
       "      <td>5.585714</td>\n",
       "    </tr>\n",
       "    <tr>\n",
       "      <th>2022-02-14</th>\n",
       "      <td>193</td>\n",
       "      <td>5.842857</td>\n",
       "      <td>3.714286</td>\n",
       "      <td>4.285714</td>\n",
       "      <td>6.114286</td>\n",
       "      <td>12.285714</td>\n",
       "      <td>3.228571</td>\n",
       "      <td>-4.528571</td>\n",
       "      <td>3.357143</td>\n",
       "      <td>5.457143</td>\n",
       "    </tr>\n",
       "    <tr>\n",
       "      <th>2022-02-21</th>\n",
       "      <td>192</td>\n",
       "      <td>5.042857</td>\n",
       "      <td>2.357143</td>\n",
       "      <td>6.528571</td>\n",
       "      <td>6.328571</td>\n",
       "      <td>7.571429</td>\n",
       "      <td>5.571429</td>\n",
       "      <td>-5.585714</td>\n",
       "      <td>2.357143</td>\n",
       "      <td>2.042857</td>\n",
       "    </tr>\n",
       "    <tr>\n",
       "      <th>2022-02-28</th>\n",
       "      <td>189</td>\n",
       "      <td>5.900000</td>\n",
       "      <td>0.000000</td>\n",
       "      <td>8.271429</td>\n",
       "      <td>7.057143</td>\n",
       "      <td>0.000000</td>\n",
       "      <td>9.528571</td>\n",
       "      <td>-4.414286</td>\n",
       "      <td>0.214286</td>\n",
       "      <td>7.285714</td>\n",
       "    </tr>\n",
       "    <tr>\n",
       "      <th>2022-03-07</th>\n",
       "      <td>202</td>\n",
       "      <td>7.900000</td>\n",
       "      <td>0.500000</td>\n",
       "      <td>7.300000</td>\n",
       "      <td>9.700000</td>\n",
       "      <td>1.142857</td>\n",
       "      <td>8.600000</td>\n",
       "      <td>-1.785714</td>\n",
       "      <td>0.214286</td>\n",
       "      <td>7.342857</td>\n",
       "    </tr>\n",
       "  </tbody>\n",
       "</table>\n",
       "<p>271 rows × 10 columns</p>\n",
       "</div>"
      ],
      "text/plain": [
       "            キャベツ    愛知平均気温  愛知降水量の合計    愛知日照時間    千葉平均気温   千葉降水量の合計    千葉日照時間  \\\n",
       "調査日                                                                             \n",
       "2017-01-02   231  8.085714  1.357143  7.357143  8.257143   0.642857  6.414286   \n",
       "2017-01-09   210  7.300000  3.285714  4.814286  7.942857   7.142857  5.485714   \n",
       "2017-01-16   197  5.157143  1.857143  4.914286  5.314286   0.000000  8.071429   \n",
       "2017-01-23   199  5.128571  0.000000  5.800000  6.414286   1.428571  6.500000   \n",
       "2017-01-30   202  5.485714  0.785714  6.785714  8.085714   0.214286  7.171429   \n",
       "...          ...       ...       ...       ...       ...        ...       ...   \n",
       "2022-02-07   170  5.100000  0.000000  6.228571  5.071429   0.000000  7.828571   \n",
       "2022-02-14   193  5.842857  3.714286  4.285714  6.114286  12.285714  3.228571   \n",
       "2022-02-21   192  5.042857  2.357143  6.528571  6.328571   7.571429  5.571429   \n",
       "2022-02-28   189  5.900000  0.000000  8.271429  7.057143   0.000000  9.528571   \n",
       "2022-03-07   202  7.900000  0.500000  7.300000  9.700000   1.142857  8.600000   \n",
       "\n",
       "              群馬平均気温  群馬降水量の合計    群馬日照時間  \n",
       "調査日                                       \n",
       "2017-01-02 -2.185714  2.857143  6.028571  \n",
       "2017-01-09 -2.957143  2.071429  4.385714  \n",
       "2017-01-16 -5.742857  2.642857  3.157143  \n",
       "2017-01-23 -6.171429  3.357143  4.728571  \n",
       "2017-01-30 -3.771429  0.857143  5.085714  \n",
       "...              ...       ...       ...  \n",
       "2022-02-07 -6.057143  0.285714  5.585714  \n",
       "2022-02-14 -4.528571  3.357143  5.457143  \n",
       "2022-02-21 -5.585714  2.357143  2.042857  \n",
       "2022-02-28 -4.414286  0.214286  7.285714  \n",
       "2022-03-07 -1.785714  0.214286  7.342857  \n",
       "\n",
       "[271 rows x 10 columns]"
      ]
     },
     "execution_count": 6,
     "metadata": {},
     "output_type": "execute_result"
    }
   ],
   "source": [
    "\n",
    "df\n"
   ]
  },
  {
   "cell_type": "code",
   "execution_count": 7,
   "id": "43411ca5",
   "metadata": {},
   "outputs": [],
   "source": [
    "look_back=12\n",
    "X_kyabetu, y_kyabetu = make_dataset(df_scale_X[\"キャベツ\"], look_back=look_back)\n",
    "X_aititemp, y_aititemp = make_dataset(df_scale_X[\"愛知平均気温\"], look_back=look_back)\n",
    "X_aitirain, y_aitirain = make_dataset(df_scale_X[\"愛知降水量の合計\"], look_back=look_back)\n",
    "X_aitisum, y_aitisum = make_dataset(df_scale_X[\"愛知日照時間\"], look_back=look_back)\n",
    "X_chibatemp, y_chibatemp = make_dataset(df_scale_X[\"千葉平均気温\"], look_back=look_back)\n",
    "X_chibarain, y_chibarain = make_dataset(df_scale_X[\"千葉降水量の合計\"], look_back=look_back)\n",
    "X_chibasum, y_chibasum = make_dataset(df_scale_X[\"千葉日照時間\"], look_back=look_back)\n",
    "X_gunmatemp, y_gunmatemp = make_dataset(df_scale_X[\"群馬平均気温\"], look_back=look_back)\n",
    "X_gunmarain, y_gunmarain = make_dataset(df_scale_X[\"群馬降水量の合計\"], look_back=look_back)\n",
    "X_gunmasum, y_gunmasum = make_dataset(df_scale_X[\"群馬日照時間\"], look_back=look_back)"
   ]
  },
  {
   "cell_type": "code",
   "execution_count": 8,
   "id": "aedb274e",
   "metadata": {},
   "outputs": [],
   "source": [
    "X_con = np.concatenate([X_kyabetu, X_aititemp, X_aitirain, X_aitisum,X_chibatemp,X_chibarain,\n",
    "                        X_chibasum,X_gunmatemp,X_gunmarain,X_gunmasum],axis=2)"
   ]
  },
  {
   "cell_type": "code",
   "execution_count": 9,
   "id": "681b1543",
   "metadata": {},
   "outputs": [
    {
     "data": {
      "text/plain": [
       "(259, 12, 10)"
      ]
     },
     "execution_count": 9,
     "metadata": {},
     "output_type": "execute_result"
    }
   ],
   "source": [
    "X_con.shape"
   ]
  },
  {
   "cell_type": "code",
   "execution_count": 10,
   "id": "373bf485",
   "metadata": {},
   "outputs": [],
   "source": [
    "X = X_con\n",
    "y = y_kyabetu\n",
    "\n",
    "# データを過去分（訓練に用いる分）と未来分（未来の予測に用いる分）に分割\n",
    "X_past = X[:-24]\n",
    "X_future = X[-24:]\n",
    "y_past = y[:-24]\n",
    "y_future = y[-24:]\n",
    "\n",
    "# 訓練データを定義\n",
    "X_train = X_past\n",
    "y_train = y_past"
   ]
  },
  {
   "cell_type": "code",
   "execution_count": 11,
   "id": "e8792fe7",
   "metadata": {},
   "outputs": [
    {
     "data": {
      "text/plain": [
       "(235, 12, 10)"
      ]
     },
     "execution_count": 11,
     "metadata": {},
     "output_type": "execute_result"
    }
   ],
   "source": [
    "X_train.shape"
   ]
  },
  {
   "cell_type": "code",
   "execution_count": 12,
   "id": "487be27e",
   "metadata": {},
   "outputs": [
    {
     "data": {
      "text/plain": [
       "(235, 1)"
      ]
     },
     "execution_count": 12,
     "metadata": {},
     "output_type": "execute_result"
    }
   ],
   "source": [
    "y_train.shape"
   ]
  },
  {
   "cell_type": "code",
   "execution_count": 13,
   "id": "22765a4e",
   "metadata": {},
   "outputs": [
    {
     "name": "stderr",
     "output_type": "stream",
     "text": [
      "2022-03-29 09:41:12.185002: I tensorflow/core/platform/cpu_feature_guard.cc:145] This TensorFlow binary is optimized with Intel(R) MKL-DNN to use the following CPU instructions in performance critical operations:  SSE4.1 SSE4.2\n",
      "To enable them in non-MKL-DNN operations, rebuild TensorFlow with the appropriate compiler flags.\n",
      "2022-03-29 09:41:12.185389: I tensorflow/core/common_runtime/process_util.cc:115] Creating new thread pool with default inter op setting: 8. Tune using inter_op_parallelism_threads for best performance.\n"
     ]
    }
   ],
   "source": [
    "\n",
    "from tensorflow.keras.models import Sequential\n",
    "from tensorflow.keras.layers import Dense, Activation\n",
    "from tensorflow.keras.layers import LSTM\n",
    "from tensorflow.keras.optimizers import Adam\n",
    "\n",
    "model = Sequential()\n",
    "x = model.add(LSTM(10, return_sequences=True, input_shape=(X_train.shape[1], X_train.shape[2])))\n",
    "model.add(LSTM(8))\n",
    "model.add(Dense(1)) #出力層はデータ数に合わせる\n",
    "\n",
    "model.compile(loss='mean_squared_error', optimizer='adam')"
   ]
  },
  {
   "cell_type": "code",
   "execution_count": 14,
   "id": "5d0ae5da",
   "metadata": {},
   "outputs": [
    {
     "name": "stdout",
     "output_type": "stream",
     "text": [
      "Train on 235 samples\n",
      "Epoch 1/100\n"
     ]
    },
    {
     "name": "stderr",
     "output_type": "stream",
     "text": [
      "2022-03-29 09:41:13.991626: W tensorflow/core/grappler/optimizers/implementation_selector.cc:310] Skipping optimization due to error while loading function libraries: Invalid argument: Functions '__inference___backward_standard_lstm_4998_5467_specialized_for_StatefulPartitionedCall_1_at___inference_distributed_function_5565' and '__inference___backward_standard_lstm_4998_5467' both implement 'lstm_acc615cc-8d67-4212-839d-9e1703ebae84' but their signatures do not match.\n"
     ]
    },
    {
     "name": "stdout",
     "output_type": "stream",
     "text": [
      "235/235 [==============================] - 7s 31ms/sample - loss: 0.8447\n",
      "Epoch 2/100\n",
      "235/235 [==============================] - 4s 18ms/sample - loss: 0.5057\n",
      "Epoch 3/100\n",
      "235/235 [==============================] - 4s 18ms/sample - loss: 0.3597\n",
      "Epoch 4/100\n",
      "235/235 [==============================] - 4s 18ms/sample - loss: 0.2512\n",
      "Epoch 5/100\n",
      "235/235 [==============================] - 4s 18ms/sample - loss: 0.1992\n",
      "Epoch 6/100\n",
      "235/235 [==============================] - 5s 21ms/sample - loss: 0.1800\n",
      "Epoch 7/100\n",
      "235/235 [==============================] - 5s 20ms/sample - loss: 0.1398\n",
      "Epoch 8/100\n",
      "235/235 [==============================] - 7s 28ms/sample - loss: 0.1186\n",
      "Epoch 9/100\n",
      "235/235 [==============================] - 5s 21ms/sample - loss: 0.1403\n",
      "Epoch 10/100\n",
      "235/235 [==============================] - 5s 19ms/sample - loss: 0.0952\n",
      "Epoch 11/100\n",
      "235/235 [==============================] - 6s 24ms/sample - loss: 0.0884\n",
      "Epoch 12/100\n",
      "235/235 [==============================] - 5s 23ms/sample - loss: 0.0810\n",
      "Epoch 13/100\n",
      "235/235 [==============================] - 4s 18ms/sample - loss: 0.0801\n",
      "Epoch 14/100\n",
      "235/235 [==============================] - 5s 22ms/sample - loss: 0.0654\n",
      "Epoch 15/100\n",
      "235/235 [==============================] - 4s 19ms/sample - loss: 0.0722\n",
      "Epoch 16/100\n",
      "235/235 [==============================] - 5s 21ms/sample - loss: 0.0607\n",
      "Epoch 17/100\n",
      "235/235 [==============================] - 5s 20ms/sample - loss: 0.0604\n",
      "Epoch 18/100\n",
      "235/235 [==============================] - 5s 20ms/sample - loss: 0.0518\n",
      "Epoch 19/100\n",
      "235/235 [==============================] - 5s 22ms/sample - loss: 0.0499\n",
      "Epoch 20/100\n",
      "235/235 [==============================] - 5s 23ms/sample - loss: 0.0742\n",
      "Epoch 21/100\n",
      "235/235 [==============================] - 5s 21ms/sample - loss: 0.0471\n",
      "Epoch 22/100\n",
      "235/235 [==============================] - 5s 21ms/sample - loss: 0.0462\n",
      "Epoch 23/100\n",
      "235/235 [==============================] - 4s 19ms/sample - loss: 0.0393\n",
      "Epoch 24/100\n",
      "235/235 [==============================] - 5s 19ms/sample - loss: 0.0980\n",
      "Epoch 25/100\n",
      "235/235 [==============================] - 5s 21ms/sample - loss: 0.0615\n",
      "Epoch 26/100\n",
      "235/235 [==============================] - 5s 20ms/sample - loss: 0.0587\n",
      "Epoch 27/100\n",
      "235/235 [==============================] - 5s 20ms/sample - loss: 0.0410\n",
      "Epoch 28/100\n",
      "235/235 [==============================] - 5s 22ms/sample - loss: 0.0449\n",
      "Epoch 29/100\n",
      "235/235 [==============================] - 5s 22ms/sample - loss: 0.0389\n",
      "Epoch 30/100\n",
      "235/235 [==============================] - 5s 22ms/sample - loss: 0.0348\n",
      "Epoch 31/100\n",
      "235/235 [==============================] - 5s 20ms/sample - loss: 0.0358\n",
      "Epoch 32/100\n",
      "235/235 [==============================] - 5s 21ms/sample - loss: 0.0340\n",
      "Epoch 33/100\n",
      "235/235 [==============================] - 5s 22ms/sample - loss: 0.0354\n",
      "Epoch 34/100\n",
      "235/235 [==============================] - 6s 24ms/sample - loss: 0.0282\n",
      "Epoch 35/100\n",
      "235/235 [==============================] - 5s 22ms/sample - loss: 0.0311\n",
      "Epoch 36/100\n",
      "235/235 [==============================] - 4s 19ms/sample - loss: 0.0287\n",
      "Epoch 37/100\n",
      "235/235 [==============================] - 5s 20ms/sample - loss: 0.0335\n",
      "Epoch 38/100\n",
      "235/235 [==============================] - 5s 22ms/sample - loss: 0.0255\n",
      "Epoch 39/100\n",
      "235/235 [==============================] - 5s 19ms/sample - loss: 0.0236\n",
      "Epoch 40/100\n",
      "235/235 [==============================] - 5s 22ms/sample - loss: 0.0228\n",
      "Epoch 41/100\n",
      "235/235 [==============================] - 5s 20ms/sample - loss: 0.0399\n",
      "Epoch 42/100\n",
      "235/235 [==============================] - 5s 23ms/sample - loss: 0.0256\n",
      "Epoch 43/100\n",
      "235/235 [==============================] - 5s 21ms/sample - loss: 0.0209\n",
      "Epoch 44/100\n",
      "235/235 [==============================] - 5s 20ms/sample - loss: 0.0196\n",
      "Epoch 45/100\n",
      "235/235 [==============================] - 12s 49ms/sample - loss: 0.0297\n",
      "Epoch 46/100\n",
      "235/235 [==============================] - 67s 284ms/sample - loss: 0.0251\n",
      "Epoch 47/100\n",
      "235/235 [==============================] - 61s 260ms/sample - loss: 0.0190\n",
      "Epoch 48/100\n",
      "235/235 [==============================] - 66s 280ms/sample - loss: 0.0231\n",
      "Epoch 49/100\n",
      "235/235 [==============================] - 57s 244ms/sample - loss: 0.0218\n",
      "Epoch 50/100\n",
      "235/235 [==============================] - 119s 506ms/sample - loss: 0.0344\n",
      "Epoch 51/100\n",
      "235/235 [==============================] - 122s 521ms/sample - loss: 0.0260\n",
      "Epoch 52/100\n",
      "235/235 [==============================] - 124s 528ms/sample - loss: 0.0170\n",
      "Epoch 53/100\n",
      "235/235 [==============================] - 60s 255ms/sample - loss: 0.0159\n",
      "Epoch 54/100\n",
      "235/235 [==============================] - 31s 131ms/sample - loss: 0.0139\n",
      "Epoch 55/100\n",
      "235/235 [==============================] - 24s 100ms/sample - loss: 0.0132\n",
      "Epoch 56/100\n",
      "235/235 [==============================] - 28s 120ms/sample - loss: 0.0169\n",
      "Epoch 57/100\n",
      "235/235 [==============================] - 16s 66ms/sample - loss: 0.0168\n",
      "Epoch 58/100\n",
      "235/235 [==============================] - 31s 133ms/sample - loss: 0.0270\n",
      "Epoch 59/100\n",
      "235/235 [==============================] - 47s 200ms/sample - loss: 0.0140\n",
      "Epoch 60/100\n",
      "235/235 [==============================] - 48s 204ms/sample - loss: 0.0118\n",
      "Epoch 61/100\n",
      "235/235 [==============================] - 49s 208ms/sample - loss: 0.0147\n",
      "Epoch 62/100\n",
      "235/235 [==============================] - 41s 173ms/sample - loss: 0.0103\n",
      "Epoch 63/100\n",
      "235/235 [==============================] - 39s 166ms/sample - loss: 0.0187\n",
      "Epoch 64/100\n",
      "235/235 [==============================] - 5s 23ms/sample - loss: 0.0185\n",
      "Epoch 65/100\n",
      "235/235 [==============================] - 6s 25ms/sample - loss: 0.0177\n",
      "Epoch 66/100\n",
      "235/235 [==============================] - 7s 28ms/sample - loss: 0.0138\n",
      "Epoch 67/100\n",
      "235/235 [==============================] - 5s 21ms/sample - loss: 0.0148\n",
      "Epoch 68/100\n",
      "235/235 [==============================] - 6s 24ms/sample - loss: 0.0113\n",
      "Epoch 69/100\n",
      "235/235 [==============================] - 5s 22ms/sample - loss: 0.0100\n",
      "Epoch 70/100\n",
      "235/235 [==============================] - 6s 25ms/sample - loss: 0.0098\n",
      "Epoch 71/100\n",
      "235/235 [==============================] - 6s 27ms/sample - loss: 0.0152\n",
      "Epoch 72/100\n",
      "235/235 [==============================] - 5s 23ms/sample - loss: 0.0147\n",
      "Epoch 73/100\n",
      "235/235 [==============================] - 6s 26ms/sample - loss: 0.0102\n",
      "Epoch 74/100\n",
      "235/235 [==============================] - 5s 22ms/sample - loss: 0.0132\n",
      "Epoch 75/100\n",
      "235/235 [==============================] - 5s 23ms/sample - loss: 0.0105\n",
      "Epoch 76/100\n",
      "235/235 [==============================] - 6s 24ms/sample - loss: 0.0120\n",
      "Epoch 77/100\n",
      "235/235 [==============================] - 6s 25ms/sample - loss: 0.0147\n",
      "Epoch 78/100\n",
      "235/235 [==============================] - 6s 24ms/sample - loss: 0.0111\n",
      "Epoch 79/100\n",
      "235/235 [==============================] - 5s 22ms/sample - loss: 0.0108\n",
      "Epoch 80/100\n",
      "235/235 [==============================] - 5s 22ms/sample - loss: 0.0122\n",
      "Epoch 81/100\n",
      "235/235 [==============================] - 7s 29ms/sample - loss: 0.0109\n",
      "Epoch 82/100\n",
      "235/235 [==============================] - 7s 30ms/sample - loss: 0.0149\n",
      "Epoch 83/100\n",
      "235/235 [==============================] - 5s 21ms/sample - loss: 0.0141\n",
      "Epoch 84/100\n",
      "235/235 [==============================] - 6s 25ms/sample - loss: 0.0115\n",
      "Epoch 85/100\n",
      "235/235 [==============================] - 7s 29ms/sample - loss: 0.0093\n",
      "Epoch 86/100\n",
      "235/235 [==============================] - 5s 21ms/sample - loss: 0.0128\n",
      "Epoch 87/100\n",
      "235/235 [==============================] - 7s 28ms/sample - loss: 0.0082\n",
      "Epoch 88/100\n",
      "235/235 [==============================] - 6s 26ms/sample - loss: 0.0093\n",
      "Epoch 89/100\n",
      "235/235 [==============================] - 6s 24ms/sample - loss: 0.0073\n",
      "Epoch 90/100\n",
      "235/235 [==============================] - 6s 24ms/sample - loss: 0.0099\n",
      "Epoch 91/100\n",
      "235/235 [==============================] - 6s 24ms/sample - loss: 0.0113\n",
      "Epoch 92/100\n",
      "235/235 [==============================] - 8s 33ms/sample - loss: 0.0092\n",
      "Epoch 93/100\n",
      "235/235 [==============================] - 6s 23ms/sample - loss: 0.0078\n",
      "Epoch 94/100\n",
      "235/235 [==============================] - 5s 19ms/sample - loss: 0.0098\n",
      "Epoch 95/100\n",
      "235/235 [==============================] - 10s 41ms/sample - loss: 0.0127\n",
      "Epoch 96/100\n"
     ]
    },
    {
     "name": "stdout",
     "output_type": "stream",
     "text": [
      "235/235 [==============================] - 5s 21ms/sample - loss: 0.0127\n",
      "Epoch 97/100\n",
      "235/235 [==============================] - 6s 25ms/sample - loss: 0.0141\n",
      "Epoch 98/100\n",
      "235/235 [==============================] - 7s 29ms/sample - loss: 0.0116\n",
      "Epoch 99/100\n",
      "235/235 [==============================] - 6s 25ms/sample - loss: 0.0073\n",
      "Epoch 100/100\n",
      "235/235 [==============================] - 5s 21ms/sample - loss: 0.0096\n"
     ]
    }
   ],
   "source": [
    "history = model.fit(X_train, y_train, epochs=100, batch_size=1)"
   ]
  },
  {
   "cell_type": "code",
   "execution_count": 15,
   "id": "b0022076",
   "metadata": {},
   "outputs": [
    {
     "name": "stderr",
     "output_type": "stream",
     "text": [
      "2022-03-29 10:12:49.704883: W tensorflow/core/grappler/optimizers/implementation_selector.cc:310] Skipping optimization due to error while loading function libraries: Invalid argument: Functions '__inference_cudnn_lstm_with_fallback_52911' and '__inference_standard_lstm_52800_specialized_for_sequential_lstm_StatefulPartitionedCall_at___inference_distributed_function_53571' both implement 'lstm_dc3652d8-0587-4726-abad-8806908a1721' but their signatures do not match.\n"
     ]
    }
   ],
   "source": [
    "predictions = model.predict(X_past)\n",
    "future_predictions = model.predict(X_future)"
   ]
  },
  {
   "cell_type": "code",
   "execution_count": 16,
   "id": "4be662a8",
   "metadata": {},
   "outputs": [
    {
     "data": {
      "text/plain": [
       "array([[223.25381 ],\n",
       "       [237.60384 ],\n",
       "       [227.71884 ],\n",
       "       [213.34424 ],\n",
       "       [193.46541 ],\n",
       "       [156.51952 ],\n",
       "       [145.71048 ],\n",
       "       [144.50333 ],\n",
       "       [139.57196 ],\n",
       "       [130.02774 ],\n",
       "       [125.61207 ],\n",
       "       [120.04255 ],\n",
       "       [124.330536],\n",
       "       [136.82402 ],\n",
       "       [152.37996 ],\n",
       "       [169.91167 ],\n",
       "       [181.61356 ],\n",
       "       [178.52011 ],\n",
       "       [174.40117 ],\n",
       "       [166.54054 ],\n",
       "       [167.41357 ],\n",
       "       [171.47186 ],\n",
       "       [199.49521 ],\n",
       "       [202.82356 ]], dtype=float32)"
      ]
     },
     "execution_count": 16,
     "metadata": {},
     "output_type": "execute_result"
    }
   ],
   "source": [
    "scaler_y.inverse_transform(future_predictions)"
   ]
  },
  {
   "cell_type": "code",
   "execution_count": 17,
   "id": "d318620d",
   "metadata": {},
   "outputs": [
    {
     "data": {
      "text/plain": [
       "484.4537515942308"
      ]
     },
     "execution_count": 17,
     "metadata": {},
     "output_type": "execute_result"
    }
   ],
   "source": [
    "from sklearn.metrics import mean_squared_error\n",
    "mean_squared_error(scaler_y.inverse_transform(future_predictions),scaler_y.inverse_transform(y_future))"
   ]
  },
  {
   "cell_type": "code",
   "execution_count": 18,
   "id": "6554a667",
   "metadata": {},
   "outputs": [
    {
     "data": {
      "text/plain": [
       "[<matplotlib.lines.Line2D at 0x7fdd40e2a250>]"
      ]
     },
     "execution_count": 18,
     "metadata": {},
     "output_type": "execute_result"
    },
    {
     "data": {
      "image/png": "[encoded data removed]",
      "text/plain": [
       "<Figure size 1440x864 with 1 Axes>"
      ]
     },
     "metadata": {},
     "output_type": "display_data"
    }
   ],
   "source": [
    "sns.set(context=\"poster\",font=\"Hiragino Maru Gothic Pro\")\n",
    "fig = plt.subplots(figsize=(20,12))\n",
    "\n",
    "#正解のプロット\n",
    "plt.plot(df[\"キャベツ\"],color=\"black\")\n",
    "# トレーニングデータのプロット\n",
    "df_train_pred = pd.DataFrame(scaler_y.inverse_transform(predictions),\n",
    "                       index=df[12:-24].index)\n",
    "plt.plot(df_train_pred,color=\"blue\")\n",
    "\n",
    "# テストデータのプロット\n",
    "df_train_pred = pd.DataFrame(scaler_y.inverse_transform(future_predictions),\n",
    "                       index=df[-24:].index)\n",
    "plt.plot(df_train_pred,color=\"red\")"
   ]
  },
  {
   "cell_type": "code",
   "execution_count": 19,
   "id": "65827505",
   "metadata": {},
   "outputs": [
    {
     "data": {
      "text/html": [
       "<div>\n",
       "<style scoped>\n",
       "    .dataframe tbody tr th:only-of-type {\n",
       "        vertical-align: middle;\n",
       "    }\n",
       "\n",
       "    .dataframe tbody tr th {\n",
       "        vertical-align: top;\n",
       "    }\n",
       "\n",
       "    .dataframe thead th {\n",
       "        text-align: right;\n",
       "    }\n",
       "</style>\n",
       "<table border=\"1\" class=\"dataframe\">\n",
       "  <thead>\n",
       "    <tr style=\"text-align: right;\">\n",
       "      <th></th>\n",
       "      <th>キャベツ</th>\n",
       "      <th>愛知平均気温</th>\n",
       "      <th>愛知降水量の合計</th>\n",
       "      <th>愛知日照時間</th>\n",
       "      <th>千葉平均気温</th>\n",
       "      <th>千葉降水量の合計</th>\n",
       "      <th>千葉日照時間</th>\n",
       "      <th>群馬平均気温</th>\n",
       "      <th>群馬降水量の合計</th>\n",
       "      <th>群馬日照時間</th>\n",
       "    </tr>\n",
       "    <tr>\n",
       "      <th>調査日</th>\n",
       "      <th></th>\n",
       "      <th></th>\n",
       "      <th></th>\n",
       "      <th></th>\n",
       "      <th></th>\n",
       "      <th></th>\n",
       "      <th></th>\n",
       "      <th></th>\n",
       "      <th></th>\n",
       "      <th></th>\n",
       "    </tr>\n",
       "  </thead>\n",
       "  <tbody>\n",
       "    <tr>\n",
       "      <th>2021-12-20</th>\n",
       "      <td>-1.032716</td>\n",
       "      <td>-1.137913</td>\n",
       "      <td>-0.275320</td>\n",
       "      <td>0.237317</td>\n",
       "      <td>-1.205739</td>\n",
       "      <td>-0.197861</td>\n",
       "      <td>0.433093</td>\n",
       "      <td>-1.035058</td>\n",
       "      <td>-0.066813</td>\n",
       "      <td>-0.500042</td>\n",
       "    </tr>\n",
       "    <tr>\n",
       "      <th>2021-12-27</th>\n",
       "      <td>-0.791868</td>\n",
       "      <td>-1.239338</td>\n",
       "      <td>-0.503456</td>\n",
       "      <td>-0.290350</td>\n",
       "      <td>-1.284079</td>\n",
       "      <td>-0.645608</td>\n",
       "      <td>0.954164</td>\n",
       "      <td>-1.223875</td>\n",
       "      <td>-0.614046</td>\n",
       "      <td>-0.520447</td>\n",
       "    </tr>\n",
       "    <tr>\n",
       "      <th>2022-01-03</th>\n",
       "      <td>-0.568222</td>\n",
       "      <td>-1.490134</td>\n",
       "      <td>-0.691915</td>\n",
       "      <td>-0.165376</td>\n",
       "      <td>-1.656720</td>\n",
       "      <td>-0.798497</td>\n",
       "      <td>0.706337</td>\n",
       "      <td>-1.485940</td>\n",
       "      <td>-0.566460</td>\n",
       "      <td>-0.302791</td>\n",
       "    </tr>\n",
       "    <tr>\n",
       "      <th>2022-01-10</th>\n",
       "      <td>-0.619833</td>\n",
       "      <td>-1.407150</td>\n",
       "      <td>-0.721672</td>\n",
       "      <td>0.424777</td>\n",
       "      <td>-1.529683</td>\n",
       "      <td>-0.503639</td>\n",
       "      <td>0.261520</td>\n",
       "      <td>-1.409436</td>\n",
       "      <td>-0.637839</td>\n",
       "      <td>0.350177</td>\n",
       "    </tr>\n",
       "    <tr>\n",
       "      <th>2022-01-17</th>\n",
       "      <td>-0.585426</td>\n",
       "      <td>-1.432967</td>\n",
       "      <td>-0.503456</td>\n",
       "      <td>-0.470867</td>\n",
       "      <td>-1.495806</td>\n",
       "      <td>-0.296147</td>\n",
       "      <td>0.541120</td>\n",
       "      <td>-1.427341</td>\n",
       "      <td>-0.328533</td>\n",
       "      <td>-1.418278</td>\n",
       "    </tr>\n",
       "    <tr>\n",
       "      <th>2022-01-24</th>\n",
       "      <td>-0.430595</td>\n",
       "      <td>-1.598936</td>\n",
       "      <td>-0.533212</td>\n",
       "      <td>-0.290350</td>\n",
       "      <td>-1.690596</td>\n",
       "      <td>-0.711132</td>\n",
       "      <td>0.560183</td>\n",
       "      <td>-1.653596</td>\n",
       "      <td>-0.614046</td>\n",
       "      <td>-0.486438</td>\n",
       "    </tr>\n",
       "    <tr>\n",
       "      <th>2022-01-31</th>\n",
       "      <td>-0.344577</td>\n",
       "      <td>-1.292816</td>\n",
       "      <td>-0.701834</td>\n",
       "      <td>-0.318122</td>\n",
       "      <td>-1.406881</td>\n",
       "      <td>-0.689290</td>\n",
       "      <td>-0.564568</td>\n",
       "      <td>-1.385020</td>\n",
       "      <td>-0.685424</td>\n",
       "      <td>1.016749</td>\n",
       "    </tr>\n",
       "    <tr>\n",
       "      <th>2022-02-07</th>\n",
       "      <td>-0.206950</td>\n",
       "      <td>-1.475381</td>\n",
       "      <td>-0.721672</td>\n",
       "      <td>-0.019574</td>\n",
       "      <td>-1.652485</td>\n",
       "      <td>-0.798497</td>\n",
       "      <td>0.890619</td>\n",
       "      <td>-1.554304</td>\n",
       "      <td>-0.637839</td>\n",
       "      <td>0.139323</td>\n",
       "    </tr>\n",
       "    <tr>\n",
       "      <th>2022-02-14</th>\n",
       "      <td>0.188730</td>\n",
       "      <td>-1.379489</td>\n",
       "      <td>-0.205888</td>\n",
       "      <td>-0.963819</td>\n",
       "      <td>-1.497924</td>\n",
       "      <td>1.079854</td>\n",
       "      <td>-1.155539</td>\n",
       "      <td>-1.380137</td>\n",
       "      <td>-0.126295</td>\n",
       "      <td>0.078107</td>\n",
       "    </tr>\n",
       "    <tr>\n",
       "      <th>2022-02-21</th>\n",
       "      <td>0.171527</td>\n",
       "      <td>-1.482758</td>\n",
       "      <td>-0.394347</td>\n",
       "      <td>0.126229</td>\n",
       "      <td>-1.466165</td>\n",
       "      <td>0.359092</td>\n",
       "      <td>-0.113397</td>\n",
       "      <td>-1.500589</td>\n",
       "      <td>-0.292844</td>\n",
       "      <td>-1.547512</td>\n",
       "    </tr>\n",
       "    <tr>\n",
       "      <th>2022-02-28</th>\n",
       "      <td>0.119916</td>\n",
       "      <td>-1.372112</td>\n",
       "      <td>-0.721672</td>\n",
       "      <td>0.973272</td>\n",
       "      <td>-1.358183</td>\n",
       "      <td>-0.798497</td>\n",
       "      <td>1.646808</td>\n",
       "      <td>-1.367115</td>\n",
       "      <td>-0.649735</td>\n",
       "      <td>0.948732</td>\n",
       "    </tr>\n",
       "    <tr>\n",
       "      <th>2022-03-07</th>\n",
       "      <td>0.343562</td>\n",
       "      <td>-1.113940</td>\n",
       "      <td>-0.652239</td>\n",
       "      <td>0.501150</td>\n",
       "      <td>-0.966487</td>\n",
       "      <td>-0.623766</td>\n",
       "      <td>1.233763</td>\n",
       "      <td>-1.067612</td>\n",
       "      <td>-0.649735</td>\n",
       "      <td>0.975939</td>\n",
       "    </tr>\n",
       "  </tbody>\n",
       "</table>\n",
       "</div>"
      ],
      "text/plain": [
       "                キャベツ    愛知平均気温  愛知降水量の合計    愛知日照時間    千葉平均気温  千葉降水量の合計  \\\n",
       "調査日                                                                      \n",
       "2021-12-20 -1.032716 -1.137913 -0.275320  0.237317 -1.205739 -0.197861   \n",
       "2021-12-27 -0.791868 -1.239338 -0.503456 -0.290350 -1.284079 -0.645608   \n",
       "2022-01-03 -0.568222 -1.490134 -0.691915 -0.165376 -1.656720 -0.798497   \n",
       "2022-01-10 -0.619833 -1.407150 -0.721672  0.424777 -1.529683 -0.503639   \n",
       "2022-01-17 -0.585426 -1.432967 -0.503456 -0.470867 -1.495806 -0.296147   \n",
       "2022-01-24 -0.430595 -1.598936 -0.533212 -0.290350 -1.690596 -0.711132   \n",
       "2022-01-31 -0.344577 -1.292816 -0.701834 -0.318122 -1.406881 -0.689290   \n",
       "2022-02-07 -0.206950 -1.475381 -0.721672 -0.019574 -1.652485 -0.798497   \n",
       "2022-02-14  0.188730 -1.379489 -0.205888 -0.963819 -1.497924  1.079854   \n",
       "2022-02-21  0.171527 -1.482758 -0.394347  0.126229 -1.466165  0.359092   \n",
       "2022-02-28  0.119916 -1.372112 -0.721672  0.973272 -1.358183 -0.798497   \n",
       "2022-03-07  0.343562 -1.113940 -0.652239  0.501150 -0.966487 -0.623766   \n",
       "\n",
       "              千葉日照時間    群馬平均気温  群馬降水量の合計    群馬日照時間  \n",
       "調査日                                                 \n",
       "2021-12-20  0.433093 -1.035058 -0.066813 -0.500042  \n",
       "2021-12-27  0.954164 -1.223875 -0.614046 -0.520447  \n",
       "2022-01-03  0.706337 -1.485940 -0.566460 -0.302791  \n",
       "2022-01-10  0.261520 -1.409436 -0.637839  0.350177  \n",
       "2022-01-17  0.541120 -1.427341 -0.328533 -1.418278  \n",
       "2022-01-24  0.560183 -1.653596 -0.614046 -0.486438  \n",
       "2022-01-31 -0.564568 -1.385020 -0.685424  1.016749  \n",
       "2022-02-07  0.890619 -1.554304 -0.637839  0.139323  \n",
       "2022-02-14 -1.155539 -1.380137 -0.126295  0.078107  \n",
       "2022-02-21 -0.113397 -1.500589 -0.292844 -1.547512  \n",
       "2022-02-28  1.646808 -1.367115 -0.649735  0.948732  \n",
       "2022-03-07  1.233763 -1.067612 -0.649735  0.975939  "
      ]
     },
     "execution_count": 19,
     "metadata": {},
     "output_type": "execute_result"
    }
   ],
   "source": [
    "df_scale_X[-12:]"
   ]
  },
  {
   "cell_type": "code",
   "execution_count": 20,
   "id": "a6d3a02c",
   "metadata": {},
   "outputs": [],
   "source": [
    "df_f = df_scale_X[-12:].values.tolist()"
   ]
  },
  {
   "cell_type": "code",
   "execution_count": 21,
   "id": "ead5c051",
   "metadata": {},
   "outputs": [],
   "source": [
    "df_f = np.array(df_f)"
   ]
  },
  {
   "cell_type": "code",
   "execution_count": 22,
   "id": "b692dd9d",
   "metadata": {},
   "outputs": [],
   "source": [
    "df_f = df_f.reshape(1,12,10)"
   ]
  },
  {
   "cell_type": "code",
   "execution_count": 23,
   "id": "77def319",
   "metadata": {},
   "outputs": [],
   "source": [
    "future_f = model.predict(df_f)"
   ]
  },
  {
   "cell_type": "code",
   "execution_count": 24,
   "id": "7437a1a3",
   "metadata": {},
   "outputs": [
    {
     "data": {
      "text/plain": [
       "array([[203.50746]], dtype=float32)"
      ]
     },
     "execution_count": 24,
     "metadata": {},
     "output_type": "execute_result"
    }
   ],
   "source": [
    "scaler_y.inverse_transform(future_f)"
   ]
  },
  {
   "cell_type": "markdown",
   "id": "af31019d",
   "metadata": {},
   "source": [
    "実際のキャベツの値段 202円"
   ]
  },
  {
   "cell_type": "code",
   "execution_count": 25,
   "id": "e166442e",
   "metadata": {},
   "outputs": [
    {
     "data": {
      "text/plain": [
       "19.644779999999997"
      ]
     },
     "execution_count": 25,
     "metadata": {},
     "output_type": "execute_result"
    }
   ],
   "source": [
    "202-182.35522"
   ]
  },
  {
   "cell_type": "code",
   "execution_count": 26,
   "id": "6b2346bf",
   "metadata": {},
   "outputs": [],
   "source": [
    "model.save('model_alldata.h5')"
   ]
  },
  {
   "cell_type": "code",
   "execution_count": null,
   "id": "19752264",
   "metadata": {},
   "outputs": [],
   "source": []
  }
 ],
 "metadata": {
  "kernelspec": {
   "display_name": "Python 3 (ipykernel)",
   "language": "python",
   "name": "python3"
  },
  "language_info": {
   "codemirror_mode": {
    "name": "ipython",
    "version": 3
   },
   "file_extension": ".py",
   "mimetype": "text/x-python",
   "name": "python",
   "nbconvert_exporter": "python",
   "pygments_lexer": "ipython3",
   "version": "3.8.13"
  }
 },
 "nbformat": 4,
 "nbformat_minor": 5
}
