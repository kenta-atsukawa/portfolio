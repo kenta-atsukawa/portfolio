{
 "cells": [
  {
   "cell_type": "code",
   "execution_count": 1,
   "id": "e28709a5",
   "metadata": {},
   "outputs": [],
   "source": [
    "import numpy as np\n",
    "import pandas as pd\n",
    "from matplotlib import pyplot as plt\n",
    "%matplotlib inline\n",
    "import seaborn as sns\n",
    "import time"
   ]
  },
  {
   "cell_type": "code",
   "execution_count": 2,
   "id": "ce44f086",
   "metadata": {},
   "outputs": [],
   "source": [
    "df = pd.read_csv('data/price_data.csv',index_col=\"調査日\",parse_dates=True)"
   ]
  },
  {
   "cell_type": "code",
   "execution_count": 3,
   "id": "8193f279",
   "metadata": {},
   "outputs": [],
   "source": [
    "def make_dataset(raw_data, look_back):\n",
    "    _X = []\n",
    "    _y = []\n",
    "\n",
    "    for i in range(len(raw_data) - look_back):\n",
    "        _X.append(raw_data[i : i + look_back])\n",
    "        _y.append(raw_data[i + look_back])\n",
    "    _X = np.array(_X).reshape(len(_X), look_back, 1)\n",
    "    _y = np.array(_y).reshape(len(_y), 1)\n",
    "\n",
    "    return _X, _y"
   ]
  },
  {
   "cell_type": "code",
   "execution_count": 4,
   "id": "052089dc",
   "metadata": {},
   "outputs": [],
   "source": [
    "df_X = df[[col for col in df.columns if col not in ['キャベツ']]]\n",
    "df_y = df[\"キャベツ\"]"
   ]
  },
  {
   "cell_type": "code",
   "execution_count": 5,
   "id": "980b9a0a",
   "metadata": {},
   "outputs": [
    {
     "name": "stderr",
     "output_type": "stream",
     "text": [
      "/Users/atsukawakenta/opt/anaconda3/envs/anaconda/lib/python3.7/site-packages/ipykernel_launcher.py:5: FutureWarning: Support for multi-dimensional indexing (e.g. `obj[:, None]`) is deprecated and will be removed in a future version.  Convert to a numpy array before indexing instead.\n",
      "  \"\"\"\n"
     ]
    }
   ],
   "source": [
    "#標準化\n",
    "from sklearn.preprocessing import StandardScaler\n",
    "scaler_X = StandardScaler()\n",
    "scaler_y = StandardScaler()\n",
    "df_scale = pd.DataFrame(scaler_X.fit_transform(df_y[:,np.newaxis]).flatten(),index=df.index,columns=df.columns)"
   ]
  },
  {
   "cell_type": "code",
   "execution_count": 6,
   "id": "6a590fb2",
   "metadata": {},
   "outputs": [
    {
     "data": {
      "text/html": [
       "<div>\n",
       "<style scoped>\n",
       "    .dataframe tbody tr th:only-of-type {\n",
       "        vertical-align: middle;\n",
       "    }\n",
       "\n",
       "    .dataframe tbody tr th {\n",
       "        vertical-align: top;\n",
       "    }\n",
       "\n",
       "    .dataframe thead th {\n",
       "        text-align: right;\n",
       "    }\n",
       "</style>\n",
       "<table border=\"1\" class=\"dataframe\">\n",
       "  <thead>\n",
       "    <tr style=\"text-align: right;\">\n",
       "      <th></th>\n",
       "      <th>キャベツ</th>\n",
       "    </tr>\n",
       "    <tr>\n",
       "      <th>調査日</th>\n",
       "      <th></th>\n",
       "    </tr>\n",
       "  </thead>\n",
       "  <tbody>\n",
       "    <tr>\n",
       "      <th>2017-01-02</th>\n",
       "      <td>0.842462</td>\n",
       "    </tr>\n",
       "    <tr>\n",
       "      <th>2017-01-09</th>\n",
       "      <td>0.481189</td>\n",
       "    </tr>\n",
       "    <tr>\n",
       "      <th>2017-01-16</th>\n",
       "      <td>0.257544</td>\n",
       "    </tr>\n",
       "    <tr>\n",
       "      <th>2017-01-23</th>\n",
       "      <td>0.291951</td>\n",
       "    </tr>\n",
       "    <tr>\n",
       "      <th>2017-01-30</th>\n",
       "      <td>0.343562</td>\n",
       "    </tr>\n",
       "    <tr>\n",
       "      <th>...</th>\n",
       "      <td>...</td>\n",
       "    </tr>\n",
       "    <tr>\n",
       "      <th>2022-02-07</th>\n",
       "      <td>-0.206950</td>\n",
       "    </tr>\n",
       "    <tr>\n",
       "      <th>2022-02-14</th>\n",
       "      <td>0.188730</td>\n",
       "    </tr>\n",
       "    <tr>\n",
       "      <th>2022-02-21</th>\n",
       "      <td>0.171527</td>\n",
       "    </tr>\n",
       "    <tr>\n",
       "      <th>2022-02-28</th>\n",
       "      <td>0.119916</td>\n",
       "    </tr>\n",
       "    <tr>\n",
       "      <th>2022-03-07</th>\n",
       "      <td>0.343562</td>\n",
       "    </tr>\n",
       "  </tbody>\n",
       "</table>\n",
       "<p>271 rows × 1 columns</p>\n",
       "</div>"
      ],
      "text/plain": [
       "                キャベツ\n",
       "調査日                 \n",
       "2017-01-02  0.842462\n",
       "2017-01-09  0.481189\n",
       "2017-01-16  0.257544\n",
       "2017-01-23  0.291951\n",
       "2017-01-30  0.343562\n",
       "...              ...\n",
       "2022-02-07 -0.206950\n",
       "2022-02-14  0.188730\n",
       "2022-02-21  0.171527\n",
       "2022-02-28  0.119916\n",
       "2022-03-07  0.343562\n",
       "\n",
       "[271 rows x 1 columns]"
      ]
     },
     "execution_count": 6,
     "metadata": {},
     "output_type": "execute_result"
    }
   ],
   "source": [
    "df_scale"
   ]
  },
  {
   "cell_type": "code",
   "execution_count": 7,
   "id": "f24d24a1",
   "metadata": {},
   "outputs": [],
   "source": [
    "look_back=12\n",
    "X_kyabetu, y_kyabetu = make_dataset(df_scale[\"キャベツ\"], look_back=look_back)\n",
    "#X_aititemp, y_aititemp = make_dataset(df_scale_X[\"愛知平均気温\"], look_back=look_back)\n",
    "#X_aitirain, y_aitirain = make_dataset(df_scale_X[\"愛知降水量の合計\"], look_back=look_back)\n",
    "#X_aitisum, y_aitisum = make_dataset(df_scale_X[\"愛知日照時間\"], look_back=look_back)\n",
    "#X_chibatemp, y_chibatemp = make_dataset(df_scale_X[\"千葉平均気温\"], look_back=look_back)\n",
    "#X_chibarain, y_chibarain = make_dataset(df_scale_X[\"千葉降水量の合計\"], look_back=look_back)\n",
    "#X_chibasum, y_chibasum = make_dataset(df_scale_X[\"千葉日照時間\"], look_back=look_back)\n",
    "#X_gunmatemp, y_gunmatemp = make_dataset(df_scale_X[\"群馬平均気温\"], look_back=look_back)\n",
    "#X_gunmarain, y_gunmarain = make_dataset(df_scale_X[\"群馬降水量の合計\"], look_back=look_back)\n",
    "#X_gunmasum, y_gunmasum = make_dataset(df_scale_X[\"群馬日照時間\"], look_back=look_back)"
   ]
  },
  {
   "cell_type": "code",
   "execution_count": 8,
   "id": "c169f46e",
   "metadata": {},
   "outputs": [],
   "source": [
    "#X_con = np.concatenate([X_kyabetu, X_aititemp, X_aitirain, X_aitisum,X_chibatemp,X_chibarain,\n",
    "#                        X_chibasum,X_gunmatemp,X_gunmarain,X_gunmasum],axis=2)"
   ]
  },
  {
   "cell_type": "code",
   "execution_count": 9,
   "id": "373bf485",
   "metadata": {},
   "outputs": [],
   "source": [
    "X = X_kyabetu\n",
    "y = y_kyabetu\n",
    "\n",
    "# データを過去分（訓練に用いる分）と未来分（未来の予測に用いる分）に分割\n",
    "X_past = X[:-24]\n",
    "X_future = X[-24:]\n",
    "y_past = y[:-24]\n",
    "y_future = y[-24:]\n",
    "\n",
    "# 訓練データを定義\n",
    "X_train = X_past\n",
    "y_train = y_past"
   ]
  },
  {
   "cell_type": "code",
   "execution_count": 10,
   "id": "44c5b58e",
   "metadata": {},
   "outputs": [
    {
     "data": {
      "text/plain": [
       "(235, 12, 1)"
      ]
     },
     "execution_count": 10,
     "metadata": {},
     "output_type": "execute_result"
    }
   ],
   "source": [
    "X_train.shape"
   ]
  },
  {
   "cell_type": "code",
   "execution_count": 11,
   "id": "788d1134",
   "metadata": {},
   "outputs": [
    {
     "data": {
      "text/plain": [
       "(235, 1)"
      ]
     },
     "execution_count": 11,
     "metadata": {},
     "output_type": "execute_result"
    }
   ],
   "source": [
    "y_train.shape"
   ]
  },
  {
   "cell_type": "code",
   "execution_count": 13,
   "id": "22765a4e",
   "metadata": {},
   "outputs": [
    {
     "name": "stderr",
     "output_type": "stream",
     "text": [
      "2022-03-29 09:16:10.272003: I tensorflow/core/platform/cpu_feature_guard.cc:145] This TensorFlow binary is optimized with Intel(R) MKL-DNN to use the following CPU instructions in performance critical operations:  SSE4.1 SSE4.2\n",
      "To enable them in non-MKL-DNN operations, rebuild TensorFlow with the appropriate compiler flags.\n",
      "2022-03-29 09:16:10.273018: I tensorflow/core/common_runtime/process_util.cc:115] Creating new thread pool with default inter op setting: 8. Tune using inter_op_parallelism_threads for best performance.\n"
     ]
    }
   ],
   "source": [
    "\n",
    "from tensorflow.keras.models import Sequential\n",
    "from tensorflow.keras.layers import Dense, Activation\n",
    "from tensorflow.keras.layers import LSTM\n",
    "from tensorflow.keras.layers import SimpleRNN\n",
    "from tensorflow.keras.optimizers import Adam\n",
    "\n",
    "model = Sequential()\n",
    "x = model.add(SimpleRNN(10, return_sequences=True, input_shape=(X_train.shape[1], X_train.shape[2])))\n",
    "model.add(SimpleRNN(8))\n",
    "model.add(Dense(1)) #出力層はデータ数に合わせる\n",
    "\n",
    "model.compile(loss='mean_squared_error', optimizer='adam')"
   ]
  },
  {
   "cell_type": "code",
   "execution_count": 14,
   "id": "7b015f36",
   "metadata": {},
   "outputs": [
    {
     "name": "stdout",
     "output_type": "stream",
     "text": [
      "Train on 235 samples\n",
      "Epoch 1/100\n",
      "235/235 [==============================] - 4s 16ms/sample - loss: 0.5923\n",
      "Epoch 2/100\n",
      "235/235 [==============================] - 2s 10ms/sample - loss: 0.2820\n",
      "Epoch 3/100\n",
      "235/235 [==============================] - 2s 10ms/sample - loss: 0.1896\n",
      "Epoch 4/100\n",
      "235/235 [==============================] - 2s 10ms/sample - loss: 0.1448\n",
      "Epoch 5/100\n",
      "235/235 [==============================] - 2s 10ms/sample - loss: 0.1175\n",
      "Epoch 6/100\n",
      "235/235 [==============================] - 3s 13ms/sample - loss: 0.1087\n",
      "Epoch 7/100\n",
      "235/235 [==============================] - 4s 16ms/sample - loss: 0.0945\n",
      "Epoch 8/100\n",
      "235/235 [==============================] - 4s 15ms/sample - loss: 0.0953\n",
      "Epoch 9/100\n",
      "235/235 [==============================] - 4s 15ms/sample - loss: 0.0848\n",
      "Epoch 10/100\n",
      "235/235 [==============================] - 3s 15ms/sample - loss: 0.0799\n",
      "Epoch 11/100\n",
      "235/235 [==============================] - 4s 15ms/sample - loss: 0.0790\n",
      "Epoch 12/100\n",
      "235/235 [==============================] - 4s 18ms/sample - loss: 0.0814\n",
      "Epoch 13/100\n",
      "235/235 [==============================] - 4s 15ms/sample - loss: 0.0733\n",
      "Epoch 14/100\n",
      "235/235 [==============================] - 4s 16ms/sample - loss: 0.0758\n",
      "Epoch 15/100\n",
      "235/235 [==============================] - 3s 15ms/sample - loss: 0.0718\n",
      "Epoch 16/100\n",
      "235/235 [==============================] - 3s 15ms/sample - loss: 0.0725\n",
      "Epoch 17/100\n",
      "235/235 [==============================] - 4s 17ms/sample - loss: 0.0725\n",
      "Epoch 18/100\n",
      "235/235 [==============================] - 3s 15ms/sample - loss: 0.0700\n",
      "Epoch 19/100\n",
      "235/235 [==============================] - 4s 16ms/sample - loss: 0.0685\n",
      "Epoch 20/100\n",
      "235/235 [==============================] - 4s 16ms/sample - loss: 0.0675\n",
      "Epoch 21/100\n",
      "235/235 [==============================] - 5s 19ms/sample - loss: 0.0669\n",
      "Epoch 22/100\n",
      "235/235 [==============================] - 4s 16ms/sample - loss: 0.0672\n",
      "Epoch 23/100\n",
      "235/235 [==============================] - 4s 15ms/sample - loss: 0.0649\n",
      "Epoch 24/100\n",
      "235/235 [==============================] - 4s 15ms/sample - loss: 0.0650\n",
      "Epoch 25/100\n",
      "235/235 [==============================] - 3s 15ms/sample - loss: 0.0583\n",
      "Epoch 26/100\n",
      "235/235 [==============================] - 4s 15ms/sample - loss: 0.0677\n",
      "Epoch 27/100\n",
      "235/235 [==============================] - 4s 18ms/sample - loss: 0.0635\n",
      "Epoch 28/100\n",
      "235/235 [==============================] - 3s 15ms/sample - loss: 0.0669\n",
      "Epoch 29/100\n",
      "235/235 [==============================] - 3s 15ms/sample - loss: 0.0600\n",
      "Epoch 30/100\n",
      "235/235 [==============================] - 4s 16ms/sample - loss: 0.0608\n",
      "Epoch 31/100\n",
      "235/235 [==============================] - 4s 17ms/sample - loss: 0.0588\n",
      "Epoch 32/100\n",
      "235/235 [==============================] - 4s 16ms/sample - loss: 0.0612\n",
      "Epoch 33/100\n",
      "235/235 [==============================] - 3s 15ms/sample - loss: 0.0594\n",
      "Epoch 34/100\n",
      "235/235 [==============================] - 4s 15ms/sample - loss: 0.0592\n",
      "Epoch 35/100\n",
      "235/235 [==============================] - 4s 16ms/sample - loss: 0.0599\n",
      "Epoch 36/100\n",
      "235/235 [==============================] - 4s 16ms/sample - loss: 0.0574\n",
      "Epoch 37/100\n",
      "235/235 [==============================] - 4s 17ms/sample - loss: 0.0576\n",
      "Epoch 38/100\n",
      "235/235 [==============================] - 4s 16ms/sample - loss: 0.0544\n",
      "Epoch 39/100\n",
      "235/235 [==============================] - 4s 15ms/sample - loss: 0.0571\n",
      "Epoch 40/100\n",
      "235/235 [==============================] - 5s 19ms/sample - loss: 0.0548\n",
      "Epoch 41/100\n",
      "235/235 [==============================] - 5s 22ms/sample - loss: 0.0554\n",
      "Epoch 42/100\n",
      "235/235 [==============================] - 4s 19ms/sample - loss: 0.0553\n",
      "Epoch 43/100\n",
      "235/235 [==============================] - 59s 253ms/sample - loss: 0.0516\n",
      "Epoch 44/100\n",
      "235/235 [==============================] - 21s 90ms/sample - loss: 0.0554\n",
      "Epoch 45/100\n",
      "235/235 [==============================] - 13s 56ms/sample - loss: 0.0522\n",
      "Epoch 46/100\n",
      "235/235 [==============================] - 11s 45ms/sample - loss: 0.0522\n",
      "Epoch 47/100\n",
      "235/235 [==============================] - 13s 56ms/sample - loss: 0.0519\n",
      "Epoch 48/100\n",
      "235/235 [==============================] - 12s 51ms/sample - loss: 0.0518\n",
      "Epoch 49/100\n",
      "235/235 [==============================] - 10s 42ms/sample - loss: 0.0483\n",
      "Epoch 50/100\n",
      "235/235 [==============================] - 13s 54ms/sample - loss: 0.0512\n",
      "Epoch 51/100\n",
      "235/235 [==============================] - 7s 29ms/sample - loss: 0.0489\n",
      "Epoch 52/100\n",
      "235/235 [==============================] - 9s 39ms/sample - loss: 0.0485\n",
      "Epoch 53/100\n",
      "235/235 [==============================] - 11s 46ms/sample - loss: 0.0487\n",
      "Epoch 54/100\n",
      "235/235 [==============================] - 7s 29ms/sample - loss: 0.0510\n",
      "Epoch 55/100\n",
      "235/235 [==============================] - 6s 27ms/sample - loss: 0.0476\n",
      "Epoch 56/100\n",
      "235/235 [==============================] - 7s 29ms/sample - loss: 0.0512\n",
      "Epoch 57/100\n",
      "235/235 [==============================] - 9s 38ms/sample - loss: 0.0459\n",
      "Epoch 58/100\n",
      "235/235 [==============================] - 7s 30ms/sample - loss: 0.0479\n",
      "Epoch 59/100\n",
      "235/235 [==============================] - 8s 35ms/sample - loss: 0.0458\n",
      "Epoch 60/100\n",
      "235/235 [==============================] - 9s 37ms/sample - loss: 0.0467\n",
      "Epoch 61/100\n",
      "235/235 [==============================] - 7s 29ms/sample - loss: 0.0463\n",
      "Epoch 62/100\n",
      "235/235 [==============================] - 8s 32ms/sample - loss: 0.0457\n",
      "Epoch 63/100\n",
      "235/235 [==============================] - 6s 25ms/sample - loss: 0.0436\n",
      "Epoch 64/100\n",
      "235/235 [==============================] - 7s 28ms/sample - loss: 0.0422\n",
      "Epoch 65/100\n",
      "235/235 [==============================] - 7s 28ms/sample - loss: 0.0422\n",
      "Epoch 66/100\n",
      "235/235 [==============================] - 6s 27ms/sample - loss: 0.0418\n",
      "Epoch 67/100\n",
      "235/235 [==============================] - 8s 33ms/sample - loss: 0.0421\n",
      "Epoch 68/100\n",
      "235/235 [==============================] - 7s 31ms/sample - loss: 0.0421\n",
      "Epoch 69/100\n",
      "235/235 [==============================] - 7s 31ms/sample - loss: 0.0408\n",
      "Epoch 70/100\n",
      "235/235 [==============================] - 8s 35ms/sample - loss: 0.0423\n",
      "Epoch 71/100\n",
      "235/235 [==============================] - 7s 31ms/sample - loss: 0.0384\n",
      "Epoch 72/100\n",
      "235/235 [==============================] - 10s 40ms/sample - loss: 0.0373\n",
      "Epoch 73/100\n",
      "235/235 [==============================] - 9s 38ms/sample - loss: 0.0418\n",
      "Epoch 74/100\n",
      "235/235 [==============================] - 10s 44ms/sample - loss: 0.0385\n",
      "Epoch 75/100\n",
      "235/235 [==============================] - 8s 32ms/sample - loss: 0.0376\n",
      "Epoch 76/100\n",
      "235/235 [==============================] - 8s 33ms/sample - loss: 0.0365\n",
      "Epoch 77/100\n",
      "235/235 [==============================] - 9s 39ms/sample - loss: 0.0376\n",
      "Epoch 78/100\n",
      "235/235 [==============================] - 7s 29ms/sample - loss: 0.0355\n",
      "Epoch 79/100\n",
      "235/235 [==============================] - 6s 24ms/sample - loss: 0.0390\n",
      "Epoch 80/100\n",
      "235/235 [==============================] - 8s 33ms/sample - loss: 0.0345\n",
      "Epoch 81/100\n",
      "235/235 [==============================] - 9s 38ms/sample - loss: 0.0339\n",
      "Epoch 82/100\n",
      "235/235 [==============================] - 11s 46ms/sample - loss: 0.0358\n",
      "Epoch 83/100\n",
      "235/235 [==============================] - 9s 40ms/sample - loss: 0.0361\n",
      "Epoch 84/100\n",
      "235/235 [==============================] - 8s 34ms/sample - loss: 0.0338\n",
      "Epoch 85/100\n",
      "235/235 [==============================] - 14s 58ms/sample - loss: 0.0356\n",
      "Epoch 86/100\n",
      "235/235 [==============================] - 8s 35ms/sample - loss: 0.0316\n",
      "Epoch 87/100\n",
      "235/235 [==============================] - 7s 31ms/sample - loss: 0.0325\n",
      "Epoch 88/100\n",
      "235/235 [==============================] - 12s 50ms/sample - loss: 0.0330\n",
      "Epoch 89/100\n",
      "235/235 [==============================] - 8s 32ms/sample - loss: 0.0327\n",
      "Epoch 90/100\n",
      "235/235 [==============================] - 7s 31ms/sample - loss: 0.0308\n",
      "Epoch 91/100\n",
      "235/235 [==============================] - 10s 44ms/sample - loss: 0.0300\n",
      "Epoch 92/100\n",
      "235/235 [==============================] - 11s 47ms/sample - loss: 0.0312\n",
      "Epoch 93/100\n",
      "235/235 [==============================] - 8s 32ms/sample - loss: 0.0315\n",
      "Epoch 94/100\n",
      "235/235 [==============================] - 7s 28ms/sample - loss: 0.0314\n",
      "Epoch 95/100\n",
      "235/235 [==============================] - 8s 33ms/sample - loss: 0.0298\n"
     ]
    },
    {
     "name": "stdout",
     "output_type": "stream",
     "text": [
      "Epoch 96/100\n",
      "235/235 [==============================] - 5s 22ms/sample - loss: 0.0294\n",
      "Epoch 97/100\n",
      "235/235 [==============================] - 3s 12ms/sample - loss: 0.0330\n",
      "Epoch 98/100\n",
      "235/235 [==============================] - 3s 13ms/sample - loss: 0.0307\n",
      "Epoch 99/100\n",
      "235/235 [==============================] - 3s 14ms/sample - loss: 0.0294\n",
      "Epoch 100/100\n",
      "235/235 [==============================] - 5s 23ms/sample - loss: 0.0315\n"
     ]
    }
   ],
   "source": [
    "history = model.fit(X_train, y_train, epochs=100, batch_size=1)"
   ]
  },
  {
   "cell_type": "code",
   "execution_count": 15,
   "id": "893f1eaa",
   "metadata": {},
   "outputs": [],
   "source": [
    "predictions = model.predict(X_past)\n",
    "future_predictions = model.predict(X_future)"
   ]
  },
  {
   "cell_type": "code",
   "execution_count": 16,
   "id": "d318620d",
   "metadata": {},
   "outputs": [
    {
     "data": {
      "text/plain": [
       "174.42839834142796"
      ]
     },
     "execution_count": 16,
     "metadata": {},
     "output_type": "execute_result"
    }
   ],
   "source": [
    "from sklearn.metrics import mean_squared_error\n",
    "mean_squared_error(scaler_X.inverse_transform(future_predictions),scaler_X.inverse_transform(y_future))"
   ]
  },
  {
   "cell_type": "code",
   "execution_count": 17,
   "id": "cf2ccc9d",
   "metadata": {},
   "outputs": [
    {
     "data": {
      "text/plain": [
       "[<matplotlib.lines.Line2D at 0x7fd2a48c2bd0>]"
      ]
     },
     "execution_count": 17,
     "metadata": {},
     "output_type": "execute_result"
    },
    {
     "data": {
      "image/png": "[encoded data removed]",
      "text/plain": [
       "<Figure size 1440x864 with 1 Axes>"
      ]
     },
     "metadata": {},
     "output_type": "display_data"
    }
   ],
   "source": [
    "sns.set(context=\"poster\",font=\"Hiragino Maru Gothic Pro\")\n",
    "fig = plt.subplots(figsize=(20,12))\n",
    "\n",
    "#正解のプロット\n",
    "plt.plot(df[\"キャベツ\"],color=\"black\")\n",
    "# トレーニングデータのプロット\n",
    "df_train_pred = pd.DataFrame(scaler_X.inverse_transform(predictions),\n",
    "                       index=df[12:-24].index)\n",
    "plt.plot(df_train_pred,color=\"blue\")\n",
    "\n",
    "# テストデータのプロット\n",
    "df_train_pred = pd.DataFrame(scaler_X.inverse_transform(future_predictions),\n",
    "                       index=df[-24:].index)\n",
    "plt.plot(df_train_pred,color=\"red\")\n",
    "\n"
   ]
  },
  {
   "cell_type": "code",
   "execution_count": 20,
   "id": "40e0ff23",
   "metadata": {},
   "outputs": [],
   "source": [
    "#model.save('model.h5')"
   ]
  },
  {
   "cell_type": "code",
   "execution_count": 21,
   "id": "321f0a15",
   "metadata": {},
   "outputs": [
    {
     "data": {
      "text/html": [
       "<div>\n",
       "<style scoped>\n",
       "    .dataframe tbody tr th:only-of-type {\n",
       "        vertical-align: middle;\n",
       "    }\n",
       "\n",
       "    .dataframe tbody tr th {\n",
       "        vertical-align: top;\n",
       "    }\n",
       "\n",
       "    .dataframe thead th {\n",
       "        text-align: right;\n",
       "    }\n",
       "</style>\n",
       "<table border=\"1\" class=\"dataframe\">\n",
       "  <thead>\n",
       "    <tr style=\"text-align: right;\">\n",
       "      <th></th>\n",
       "      <th>キャベツ</th>\n",
       "    </tr>\n",
       "    <tr>\n",
       "      <th>調査日</th>\n",
       "      <th></th>\n",
       "    </tr>\n",
       "  </thead>\n",
       "  <tbody>\n",
       "    <tr>\n",
       "      <th>2021-12-20</th>\n",
       "      <td>-1.032716</td>\n",
       "    </tr>\n",
       "    <tr>\n",
       "      <th>2021-12-27</th>\n",
       "      <td>-0.791868</td>\n",
       "    </tr>\n",
       "    <tr>\n",
       "      <th>2022-01-03</th>\n",
       "      <td>-0.568222</td>\n",
       "    </tr>\n",
       "    <tr>\n",
       "      <th>2022-01-10</th>\n",
       "      <td>-0.619833</td>\n",
       "    </tr>\n",
       "    <tr>\n",
       "      <th>2022-01-17</th>\n",
       "      <td>-0.585426</td>\n",
       "    </tr>\n",
       "    <tr>\n",
       "      <th>2022-01-24</th>\n",
       "      <td>-0.430595</td>\n",
       "    </tr>\n",
       "    <tr>\n",
       "      <th>2022-01-31</th>\n",
       "      <td>-0.344577</td>\n",
       "    </tr>\n",
       "    <tr>\n",
       "      <th>2022-02-07</th>\n",
       "      <td>-0.206950</td>\n",
       "    </tr>\n",
       "    <tr>\n",
       "      <th>2022-02-14</th>\n",
       "      <td>0.188730</td>\n",
       "    </tr>\n",
       "    <tr>\n",
       "      <th>2022-02-21</th>\n",
       "      <td>0.171527</td>\n",
       "    </tr>\n",
       "    <tr>\n",
       "      <th>2022-02-28</th>\n",
       "      <td>0.119916</td>\n",
       "    </tr>\n",
       "    <tr>\n",
       "      <th>2022-03-07</th>\n",
       "      <td>0.343562</td>\n",
       "    </tr>\n",
       "  </tbody>\n",
       "</table>\n",
       "</div>"
      ],
      "text/plain": [
       "                キャベツ\n",
       "調査日                 \n",
       "2021-12-20 -1.032716\n",
       "2021-12-27 -0.791868\n",
       "2022-01-03 -0.568222\n",
       "2022-01-10 -0.619833\n",
       "2022-01-17 -0.585426\n",
       "2022-01-24 -0.430595\n",
       "2022-01-31 -0.344577\n",
       "2022-02-07 -0.206950\n",
       "2022-02-14  0.188730\n",
       "2022-02-21  0.171527\n",
       "2022-02-28  0.119916\n",
       "2022-03-07  0.343562"
      ]
     },
     "execution_count": 21,
     "metadata": {},
     "output_type": "execute_result"
    }
   ],
   "source": [
    "df_scale[-12:]"
   ]
  },
  {
   "cell_type": "code",
   "execution_count": 22,
   "id": "64e69085",
   "metadata": {},
   "outputs": [],
   "source": [
    "df_f = df_scale[-12:].values.tolist()\n",
    "df_f = np.array(df_f)\n",
    "df_f = df_f.reshape(1,12,1)\n",
    "future_f = model.predict(df_f)"
   ]
  },
  {
   "cell_type": "code",
   "execution_count": 23,
   "id": "909191a7",
   "metadata": {},
   "outputs": [
    {
     "data": {
      "text/plain": [
       "array([[196.36444]], dtype=float32)"
      ]
     },
     "execution_count": 23,
     "metadata": {},
     "output_type": "execute_result"
    }
   ],
   "source": [
    "scaler_X.inverse_transform(future_f)"
   ]
  },
  {
   "cell_type": "markdown",
   "id": "c6a7ce42",
   "metadata": {},
   "source": [
    "実際の値段202"
   ]
  },
  {
   "cell_type": "code",
   "execution_count": 24,
   "id": "11f0aa64",
   "metadata": {},
   "outputs": [
    {
     "data": {
      "text/plain": [
       "-15.677030000000002"
      ]
     },
     "execution_count": 24,
     "metadata": {},
     "output_type": "execute_result"
    }
   ],
   "source": [
    "202 - 217.67703"
   ]
  },
  {
   "cell_type": "code",
   "execution_count": 25,
   "id": "3048e47e",
   "metadata": {},
   "outputs": [],
   "source": [
    "pred_list = []"
   ]
  },
  {
   "cell_type": "code",
   "execution_count": 26,
   "id": "e2569075",
   "metadata": {},
   "outputs": [],
   "source": [
    "pred_list.append(df_f)"
   ]
  },
  {
   "cell_type": "code",
   "execution_count": 27,
   "id": "78930adc",
   "metadata": {},
   "outputs": [
    {
     "data": {
      "text/plain": [
       "array([[-1.0327163 ],\n",
       "       [-0.79186766],\n",
       "       [-0.5682225 ],\n",
       "       [-0.61983292],\n",
       "       [-0.58542597],\n",
       "       [-0.4305947 ],\n",
       "       [-0.34457733],\n",
       "       [-0.20694954],\n",
       "       [ 0.18873036],\n",
       "       [ 0.17152689],\n",
       "       [ 0.11991647],\n",
       "       [ 0.34356163]])"
      ]
     },
     "execution_count": 27,
     "metadata": {},
     "output_type": "execute_result"
    }
   ],
   "source": [
    "pred_list[0][0][:]"
   ]
  },
  {
   "cell_type": "code",
   "execution_count": null,
   "id": "c1f4bf72",
   "metadata": {},
   "outputs": [],
   "source": [
    "pred_list."
   ]
  }
 ],
 "metadata": {
  "kernelspec": {
   "display_name": "Python 3 (ipykernel)",
   "language": "python",
   "name": "python3"
  },
  "language_info": {
   "codemirror_mode": {
    "name": "ipython",
    "version": 3
   },
   "file_extension": ".py",
   "mimetype": "text/x-python",
   "name": "python",
   "nbconvert_exporter": "python",
   "pygments_lexer": "ipython3",
   "version": "3.8.13"
  }
 },
 "nbformat": 4,
 "nbformat_minor": 5
}
